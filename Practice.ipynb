{
  "nbformat": 4,
  "nbformat_minor": 0,
  "metadata": {
    "colab": {
      "provenance": [],
      "authorship_tag": "ABX9TyOQClJwvmAdYm0uezL1m273",
      "include_colab_link": true
    },
    "kernelspec": {
      "name": "python3",
      "display_name": "Python 3"
    },
    "language_info": {
      "name": "python"
    }
  },
  "cells": [
    {
      "cell_type": "markdown",
      "metadata": {
        "id": "view-in-github",
        "colab_type": "text"
      },
      "source": [
        "<a href=\"https://colab.research.google.com/github/sushily1997/Python_Code_Practice/blob/main/Practice.ipynb\" target=\"_parent\"><img src=\"https://colab.research.google.com/assets/colab-badge.svg\" alt=\"Open In Colab\"/></a>"
      ]
    },
    {
      "cell_type": "markdown",
      "source": [
        "# Python code\n",
        "1)Write the programs for Maximum and Minimum Of Three Numbers\n",
        "\n",
        "                                a=int(input(\"Enter First Number:\"))\n",
        "                                b=int(input(\"Enter Second Number:\"))\n",
        "                                c=int(input(\"Enter Third Number:\"))\n",
        "                                max=a if a>b and a>c else b if b>a and b>c else c\n",
        "                                print(\"Maximum Value:\",max)\n",
        "\n",
        "\n",
        "2)Given a string, write a python function to check if it is palindrome or not. A string is said to be palindrome if the reverse of the string is the same as string. For example, “radar” is a palindrome, but “radix” is not a palindrome.\n",
        "\n",
        "                    def ispalindrome(num):\n",
        "                    num1=str(num)\n",
        "                    num2=num1[::-1]\n",
        "                    num3=int(num2)\n",
        "                    if num == num3:\n",
        "                      print(\"yes\")\n",
        "                    else:\n",
        "                      print(\"no\")\n",
        "                  ispalindrome(1234321)\n",
        "\n",
        "3)Python Program for n-th Fibonacci number\n",
        "\n",
        "\n",
        "    # Function for nth Fibonacci number\n",
        " \n",
        "    def Fibonacci(n):\n",
        "        if n<= 0:\n",
        "            print(\"Incorrect input\")\n",
        "        # First Fibonacci number is 0\n",
        "        elif n == 1:\n",
        "            return 0\n",
        "        # Second Fibonacci number is 1\n",
        "        elif n == 2:\n",
        "            return 1\n",
        "        else:\n",
        "            return Fibonacci(n-1)+Fibonacci(n-2)\n",
        " \n",
        "    # Driver Program\n",
        "    print(Fibonacci(10))\n",
        "\n",
        "4)Python Program for cube sum of first n natural numbers\n",
        "\n",
        "    def sumOfSeries(n):\n",
        "        sum = 0\n",
        "        for i in range(1, n+1):\n",
        "            sum +=pow(i,3)\n",
        "            \n",
        "        return sum\n",
        "    \n",
        "      \n",
        "    # Driver Function\n",
        "    n = 8\n",
        "    print(sumOfSeries(n))\n",
        "\n",
        "5)Python program to find second largest number in a list\n",
        "\n",
        "    # List of numbers\n",
        "    list1 = [10, 20, 20, 4, 45, 45, 45, 99, 99]\n",
        "    \n",
        "    # Removing duplicates from the list\n",
        "    list2 = list(set(list1))\n",
        "    \n",
        "    # Sorting the  list\n",
        "    list2.sort()\n",
        "    \n",
        "    # Printing the second last element\n",
        "    print(\"Second largest element is:\", list2[-2])"
      ],
      "metadata": {
        "id": "l8uxzKEWkTg4"
      }
    },
    {
      "cell_type": "markdown",
      "source": [
        "# SQL\n",
        "1) Show first name, last name, and gender of patients who's gender is 'M'\n",
        "\n",
        "> SELECT first_name, last_name,gender from patients where gender = 'M'\n",
        "\n",
        "2)\n",
        "Show first name and last name of patients who does not have allergies. (null)\n",
        "\n",
        "> SELECT first_name, last_name from patients where allergies is null\n",
        "\n",
        "3)Show first name of patients that start with the letter 'C'\n",
        "\n",
        "> SELECT first_name \"Name\" from patients where  first_name like 'C%'\n",
        "\n",
        "4)Show first name and last name of patients that weight within the range of 100 to 120 (inclusive)\n",
        "\n",
        "> select first_name,last_name from patients where weight BETWEEN 100 AND 120"
      ],
      "metadata": {
        "id": "wbn-r10Gihyv"
      }
    }
  ]
}