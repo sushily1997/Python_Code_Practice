{
  "nbformat": 4,
  "nbformat_minor": 0,
  "metadata": {
    "colab": {
      "provenance": [],
      "include_colab_link": true
    },
    "kernelspec": {
      "name": "python3",
      "display_name": "Python 3"
    },
    "language_info": {
      "name": "python"
    }
  },
  "cells": [
    {
      "cell_type": "markdown",
      "metadata": {
        "id": "view-in-github",
        "colab_type": "text"
      },
      "source": [
        "<a href=\"https://colab.research.google.com/github/sushily1997/Python_Code_Practice/blob/main/python_practice.ipynb\" target=\"_parent\"><img src=\"https://colab.research.google.com/assets/colab-badge.svg\" alt=\"Open In Colab\"/></a>"
      ]
    },
    {
      "cell_type": "markdown",
      "source": [
        "# Question 1\n",
        "Level 1\n",
        "\n",
        "Question: Write a program which will find all such numbers which are divisible by 7 but are not a multiple of 5, between 2000 and 3200 (both included). The numbers obtained should be printed in a comma-separated sequence on a single line.\n",
        "\n",
        "Hints: Consider use range(#begin, #end) method\n",
        "\n",
        "Solution:"
      ],
      "metadata": {
        "id": "kWtXO-nAF9wF"
      }
    },
    {
      "cell_type": "code",
      "source": [
        "l=[]\n",
        "for i in range(2000,3201):\n",
        "  if(i%7==0) and (i%5!=0):\n",
        "    l.append(str(i))\n",
        "\n",
        "print(','.join(l))"
      ],
      "metadata": {
        "colab": {
          "base_uri": "https://localhost:8080/"
        },
        "id": "XpQ7ByEx9SB4",
        "outputId": "50e7a183-6076-4816-9e9c-140e59d0eec5"
      },
      "execution_count": null,
      "outputs": [
        {
          "output_type": "stream",
          "name": "stdout",
          "text": [
            "2002,2009,2016,2023,2037,2044,2051,2058,2072,2079,2086,2093,2107,2114,2121,2128,2142,2149,2156,2163,2177,2184,2191,2198,2212,2219,2226,2233,2247,2254,2261,2268,2282,2289,2296,2303,2317,2324,2331,2338,2352,2359,2366,2373,2387,2394,2401,2408,2422,2429,2436,2443,2457,2464,2471,2478,2492,2499,2506,2513,2527,2534,2541,2548,2562,2569,2576,2583,2597,2604,2611,2618,2632,2639,2646,2653,2667,2674,2681,2688,2702,2709,2716,2723,2737,2744,2751,2758,2772,2779,2786,2793,2807,2814,2821,2828,2842,2849,2856,2863,2877,2884,2891,2898,2912,2919,2926,2933,2947,2954,2961,2968,2982,2989,2996,3003,3017,3024,3031,3038,3052,3059,3066,3073,3087,3094,3101,3108,3122,3129,3136,3143,3157,3164,3171,3178,3192,3199\n"
          ]
        }
      ]
    },
    {
      "cell_type": "markdown",
      "source": [
        "# Question 2\n",
        "Level 1\n",
        "\n",
        "Question: Write a program which can compute the factorial of a given numbers. The results should be printed in a comma-separated sequence on a single line. Suppose the following input is supplied to the program: 8 Then, the output should be: 40320\n",
        "\n",
        "Hints: In case of input data being supplied to the question, it should be assumed to be a console input.\n",
        "\n",
        "Solution:"
      ],
      "metadata": {
        "id": "p-y35jXaGJdK"
      }
    },
    {
      "cell_type": "code",
      "source": [
        "def fact(x):\n",
        "  if x==0:\n",
        "    return 1\n",
        "  return x * fact (x-1)\n",
        "\n",
        "x= int(input())\n",
        "print(fact(x))"
      ],
      "metadata": {
        "colab": {
          "base_uri": "https://localhost:8080/"
        },
        "id": "JVp89SOB9uA9",
        "outputId": "d73d7f3a-1eb4-4163-e21e-2a0dfa2db5ae"
      },
      "execution_count": null,
      "outputs": [
        {
          "output_type": "stream",
          "name": "stdout",
          "text": [
            "8\n",
            "40320\n"
          ]
        }
      ]
    },
    {
      "cell_type": "markdown",
      "source": [
        "# Question 3\n",
        "Level 1\n",
        "\n",
        "Question: With a given integral number n, write a program to generate a dictionary that contains (i, i*i) such that is an integral number between 1 and n (both included). and then the program should print the dictionary. Suppose the following input is supplied to the program: 8 Then, the output should be: {1: 1, 2: 4, 3: 9, 4: 16, 5: 25, 6: 36, 7: 49, 8: 64}\n",
        "\n",
        "Hints: In case of input data being supplied to the question, it should be assumed to be a console input. Consider use dict()\n",
        "\n",
        "Solution:"
      ],
      "metadata": {
        "id": "AeN9m8LXGPhj"
      }
    },
    {
      "cell_type": "code",
      "source": [
        "n=int(input())\n",
        "d=dict()\n",
        "for i in range(1,n+1):\n",
        "  d[i]=i*i\n",
        "\n",
        "print(d)"
      ],
      "metadata": {
        "colab": {
          "base_uri": "https://localhost:8080/"
        },
        "id": "4qPB60_N-cH0",
        "outputId": "69abd965-1176-493f-eb64-1fad8b639732"
      },
      "execution_count": null,
      "outputs": [
        {
          "output_type": "stream",
          "name": "stdout",
          "text": [
            "4\n",
            "{1: 1, 2: 4, 3: 9, 4: 16}\n"
          ]
        }
      ]
    },
    {
      "cell_type": "markdown",
      "source": [
        "# Question 4\n",
        "Level 1\n",
        "\n",
        "Question: Write a program which accepts a sequence of comma-separated numbers from console and generate a list and a tuple which contains every number. Suppose the following input is supplied to the program: 34,67,55,33,12,98 Then, the output should be: ['34', '67', '55', '33', '12', '98'] ('34', '67', '55', '33', '12', '98')\n",
        "\n",
        "Hints: In case of input data being supplied to the question, it should be assumed to be a console input. tuple() method can convert list to tuple\n",
        "\n",
        "Solution:"
      ],
      "metadata": {
        "id": "Qdzf5Sb1GUT5"
      }
    },
    {
      "cell_type": "code",
      "source": [
        "values=input()\n",
        "l=values.split(\",\")\n",
        "t=tuple(l)\n",
        "print(l)\n",
        "print(t)"
      ],
      "metadata": {
        "colab": {
          "base_uri": "https://localhost:8080/"
        },
        "id": "73-zcQYw_Ga-",
        "outputId": "a79f6e5f-8e5c-4efe-9b64-c40b88dfb768"
      },
      "execution_count": null,
      "outputs": [
        {
          "output_type": "stream",
          "name": "stdout",
          "text": [
            "1,2,3,4\n",
            "['1', '2', '3', '4']\n",
            "('1', '2', '3', '4')\n"
          ]
        }
      ]
    },
    {
      "cell_type": "markdown",
      "source": [
        "# Question 5\n",
        "Level 1\n",
        "\n",
        "Question: Define a class which has at least two methods: getString: to get a string from console input printString: to print the string in upper case. Also please include simple test function to test the class methods.\n",
        "\n",
        "Hints: Use init method to construct some parameters\n",
        "\n",
        "Solution:"
      ],
      "metadata": {
        "id": "6P4OaAURGYHJ"
      }
    },
    {
      "cell_type": "code",
      "source": [
        "class InputOutString(object):\n",
        "      def __init__(self):\n",
        "           self.s = \"\"\n",
        "\n",
        "      def getString(self):\n",
        "                    self.s = input()\n",
        "                              \n",
        "      def printString(self):\n",
        "                                          \n",
        "          print(self.s.upper())\n",
        "\n",
        "strObj = InputOutString()\n",
        "strObj.getString()\n",
        "strObj.printString()"
      ],
      "metadata": {
        "id": "vw7zT_6Zzdrn",
        "outputId": "98596619-0ce8-4bad-f3c6-db7c9597641a",
        "colab": {
          "base_uri": "https://localhost:8080/"
        }
      },
      "execution_count": null,
      "outputs": [
        {
          "output_type": "stream",
          "name": "stdout",
          "text": [
            "aekdg273JSGK\n",
            "AEKDG273JSGK\n"
          ]
        }
      ]
    },
    {
      "cell_type": "markdown",
      "source": [
        "# Question 6 Level 1\n",
        "\n",
        "Write the programs for Maximum and Minimum Of Three Numbers"
      ],
      "metadata": {
        "id": "EI2lAh6YGcDR"
      }
    },
    {
      "cell_type": "code",
      "source": [
        "# Program for Maximum of 3 Numbers\n",
        "a=int(input(\"Enter First Number:\"))\n",
        "b=int(input(\"Enter Second Number:\"))\n",
        "c=int(input(\"Enter Third Number:\"))\n",
        "max=a if a>b and a>c else b if b>a and b>c else c\n",
        "print(\"Maximum Value:\",max)"
      ],
      "metadata": {
        "colab": {
          "base_uri": "https://localhost:8080/"
        },
        "id": "gEJeWpy4WYep",
        "outputId": "26628cd8-4877-47a0-f6f6-1d1434268387"
      },
      "execution_count": null,
      "outputs": [
        {
          "output_type": "stream",
          "name": "stdout",
          "text": [
            "Enter First Number:23\n",
            "Enter Second Number:45\n",
            "Enter Third Number:97\n",
            "Maximum Value: 97\n"
          ]
        }
      ]
    },
    {
      "cell_type": "code",
      "source": [
        "# Program for Minimum of 3 Numbers\n",
        "a=int(input(\"Enter First Number:\"))\n",
        "b=int(input(\"Enter Second Number:\"))\n",
        "c=int(input(\"Enter Third Number:\"))\n",
        "min=a if a<b and a<c else b if b<a else c\n",
        "print(\"Minimum Value:\",min)"
      ],
      "metadata": {
        "colab": {
          "base_uri": "https://localhost:8080/"
        },
        "id": "11gN2DoNVa6o",
        "outputId": "9a725b08-8503-40fe-c046-a11ea53875ea"
      },
      "execution_count": null,
      "outputs": [
        {
          "output_type": "stream",
          "name": "stdout",
          "text": [
            "Enter First Number:23\n",
            "Enter Second Number:97\n",
            "Enter Third Number:45\n",
            "Minimum Value: 23\n"
          ]
        }
      ]
    },
    {
      "cell_type": "code",
      "source": [],
      "metadata": {
        "id": "2NKQPHGxe8ZN"
      },
      "execution_count": null,
      "outputs": []
    },
    {
      "cell_type": "markdown",
      "source": [
        "# Question 7 Level 1\n",
        "# ㅤㅤㅤㅤㅤㅤㅤㅤㅤ𝘄𝗿𝗶𝘁𝗲 𝗮 𝗽𝘆𝘁𝗵𝗼𝗻 𝗽𝗿𝗼𝗴𝗿𝗮𝗺 𝘁𝗼 𝗳𝗶𝗻𝗱 𝗮𝗿𝗲𝗮 𝗼𝗳 𝗰𝗶𝗿𝗰𝗹𝗲"
      ],
      "metadata": {
        "id": "4Ua022--GhUa"
      }
    },
    {
      "cell_type": "code",
      "source": [
        "# Important variables\n",
        "'''pi = 3.14\n",
        "   inf = infinity\n",
        "   nan = not a number'''"
      ],
      "metadata": {
        "colab": {
          "base_uri": "https://localhost:8080/",
          "height": 35
        },
        "id": "ciZmeCXMXgTB",
        "outputId": "a8210486-56f9-49e9-e813-9ce2baf2d2e3"
      },
      "execution_count": null,
      "outputs": [
        {
          "output_type": "execute_result",
          "data": {
            "text/plain": [
              "'pi = 3.14\\n   inf = infinity\\n   nan = not a number'"
            ],
            "application/vnd.google.colaboratory.intrinsic+json": {
              "type": "string"
            }
          },
          "metadata": {},
          "execution_count": 4
        }
      ]
    },
    {
      "cell_type": "code",
      "source": [
        "PI = 3.14\n",
        "r = float(input(\"Enter the radius of a circle:\"))\n",
        "area = PI * r * r\n",
        "print(\"Area of a circle = %.2f\" %area)"
      ],
      "metadata": {
        "colab": {
          "base_uri": "https://localhost:8080/"
        },
        "id": "w1JA_N7ZXHpe",
        "outputId": "01274ed9-1ace-4ac7-9a7e-9f41748b0ff2"
      },
      "execution_count": null,
      "outputs": [
        {
          "output_type": "stream",
          "name": "stdout",
          "text": [
            "Enter the radius of a circle:56\n",
            "Area of a circle = 9847.04\n"
          ]
        }
      ]
    },
    {
      "cell_type": "markdown",
      "source": [
        "# Question 8\n",
        "Level 2\n",
        "\n",
        "Question: Write a program that accepts a comma separated sequence of words as input and prints the words in a comma-separated sequence after sorting them alphabetically. Suppose the following input is supplied to the program: without,hello,bag,world Then, the output should be: bag,hello,without,world\n",
        "\n",
        "Hints: In case of input data being supplied to the question, it should be assumed to be a console input.\n",
        "\n",
        "Solution: "
      ],
      "metadata": {
        "id": "FaAh-gbxGqca"
      }
    },
    {
      "cell_type": "code",
      "source": [
        "items=[x for x in input().split(',')]\n",
        "items.sort()\n",
        "print(','.join(items))"
      ],
      "metadata": {
        "id": "1FBUPNT2Rrka",
        "outputId": "b0067569-9648-4c8c-bd7d-82d90d537735",
        "colab": {
          "base_uri": "https://localhost:8080/"
        }
      },
      "execution_count": null,
      "outputs": [
        {
          "output_type": "stream",
          "name": "stdout",
          "text": [
            "As,ga,us,f,ek,a,is,hf,m,ka,l,\n",
            ",As,a,ek,f,ga,hf,is,ka,l,m,us\n"
          ]
        }
      ]
    },
    {
      "cell_type": "markdown",
      "source": [
        "# Question 9\n",
        "Level 2\n",
        "\n",
        "Question£º Write a program that accepts sequence of lines as input and prints the lines after making all characters in the sentence capitalized. Suppose the following input is supplied to the program: Hello world Practice makes perfect Then, the output should be: HELLO WORLD PRACTICE MAKES PERFECT\n",
        "\n",
        "Hints: In case of input data being supplied to the question, it should be assumed to be a console input.\n",
        "\n",
        "Solution:"
      ],
      "metadata": {
        "id": "E66w45eaGwhb"
      }
    },
    {
      "cell_type": "code",
      "source": [
        "def capitalize_line(string=\"\"):\n",
        "    \"\"\"Capitalize and add a newline to the input str(if present)\"\"\"\n",
        "    inp = input(\"enter: \").upper()\n",
        "    string = \"\\n\".join([string, inp]) if string and inp else \"\".join([string, inp])\n",
        "    if not inp:\n",
        "        print(string)\n",
        "        return string\n",
        "    return capitalize_line(string=string)"
      ],
      "metadata": {
        "id": "4F2OuEzUJsiN"
      },
      "execution_count": null,
      "outputs": []
    },
    {
      "cell_type": "code",
      "source": [
        "\n",
        "lines = []\n",
        "while True:\n",
        "    s = input()\n",
        "    if s:\n",
        "        lines.append(s.upper())\n",
        "    else:\n",
        "        break;\n",
        "\n",
        "for sentence in lines:\n",
        "    print (sentence)"
      ],
      "metadata": {
        "id": "ySQdGBdmKtXo"
      },
      "execution_count": null,
      "outputs": []
    },
    {
      "cell_type": "code",
      "source": [
        "lines=[]\n",
        "s=input()\n",
        "if s:\n",
        "    lines.append(s.upper())\n",
        "     \n",
        "for senetence  in lines:\n",
        "  print( senetence)"
      ],
      "metadata": {
        "id": "yCoRo2MNauFF",
        "outputId": "3f3cbbce-6aee-43e7-e435-af0fde787434",
        "colab": {
          "base_uri": "https://localhost:8080/"
        }
      },
      "execution_count": null,
      "outputs": [
        {
          "output_type": "stream",
          "name": "stdout",
          "text": [
            "a,d,f,g\n",
            "A,D,F,G\n"
          ]
        }
      ]
    },
    {
      "cell_type": "markdown",
      "source": [
        "# Question 10\n",
        "Level 2\n",
        "\n",
        "Question: Write a program that accepts a sequence of whitespace separated words as input and prints the words after removing all duplicate words and sorting them alphanumerically. Suppose the following input is supplied to the program: hello world and practice makes perfect and hello world again Then, the output should be: again and hello makes perfect practice world\n",
        "\n",
        "Hints: In case of input data being supplied to the question, it should be assumed to be a console input. We use set container to remove duplicated data automatically and then use sorted() to sort the data.\n",
        "\n",
        "Solution:"
      ],
      "metadata": {
        "id": "23fQikGiG2a8"
      }
    },
    {
      "cell_type": "code",
      "source": [
        "s = input()\n",
        "words = [word for word in s.split(\",\")]\n",
        "print(\" \".join(sorted(list(set(words)))))"
      ],
      "metadata": {
        "colab": {
          "base_uri": "https://localhost:8080/"
        },
        "id": "57X56tLhHRV7",
        "outputId": "9cbb6bd2-497c-4cdb-c2ed-c42d22768e63"
      },
      "execution_count": null,
      "outputs": [
        {
          "output_type": "stream",
          "name": "stdout",
          "text": [
            "h,d,3,c,d,3,d,c,h,c,s,3,s,h,d,c,3\n",
            "3 c d h s\n"
          ]
        }
      ]
    },
    {
      "cell_type": "markdown",
      "source": [
        "# Question 11\n",
        "\n",
        "Write a program that accepts a comma separated sequence of words as input and prints the words in a comma-separated sequence after sorting them alphabetically.\n",
        "Suppose the following input is supplied to the program: without,hello,bag,world\n",
        "Then, the output should be: bag,hello,without,world"
      ],
      "metadata": {
        "id": "J9RAJ9yKG68Y"
      }
    },
    {
      "cell_type": "code",
      "source": [
        "items=[x for x in input().split(',')]\n",
        "items.sort()\n",
        "print(','.join(items))"
      ],
      "metadata": {
        "id": "tQAKauyhcuWm",
        "outputId": "7e3c3fa2-23c0-484e-d3cc-dca3a8be02b8",
        "colab": {
          "base_uri": "https://localhost:8080/"
        }
      },
      "execution_count": null,
      "outputs": [
        {
          "output_type": "stream",
          "name": "stdout",
          "text": [
            "h,d,3,c,d,3,d,c,h,c,s,3,s,h,d,c,3\n",
            "3,3,3,3,c,c,c,c,d,d,d,d,h,h,h,s,s\n"
          ]
        }
      ]
    },
    {
      "cell_type": "markdown",
      "source": [
        "# Q1. Python program to check if a string is palindrome or not\n",
        "\n",
        "Given a string, write a python function to check if it is palindrome or not. A string is said to be palindrome if the reverse of the string is the same as string. For example, “radar” is a palindrome, but “radix” is not a palindrome.\n",
        "\n",
        "Examples: \n",
        "\n",
        "Input : malayalam\n",
        "\n",
        "Output : Yes\n",
        "\n",
        "\n",
        "\n",
        "Input : geeks\n",
        "\n",
        "Output : No\n",
        "\n",
        "**Method #1**\n",
        "\n",
        "1. Find reverse of string\n",
        "\n",
        "2. Check if reverse and original are same or not."
      ],
      "metadata": {
        "id": "DtCYRuIYNJe5"
      }
    },
    {
      "cell_type": "code",
      "source": [
        "def ispalindrome(num):\n",
        "  num1=str(num)\n",
        "  num2=num1[::-1]\n",
        "  num3=int(num2)\n",
        "  if num == num3:\n",
        "    print(\"yes\")\n",
        "  else:\n",
        "    print(\"no\")\n",
        "\n",
        "ispalindrome(1234321)\n"
      ],
      "metadata": {
        "id": "UNaQibkaXvZo",
        "outputId": "fdbbebb3-cda7-48de-f86c-40efe89bf3a0",
        "colab": {
          "base_uri": "https://localhost:8080/"
        }
      },
      "execution_count": null,
      "outputs": [
        {
          "output_type": "stream",
          "name": "stdout",
          "text": [
            "yes\n"
          ]
        }
      ]
    },
    {
      "cell_type": "code",
      "source": [
        "def ispalindrome(s):\n",
        "  return(s==s[::-1])\n",
        "\n",
        "s=input()\n",
        "ans=ispalindrome\n",
        "if ans:\n",
        "  print(\"yes\")\n",
        "else:\n",
        "  print(\"no\")\n",
        "\n"
      ],
      "metadata": {
        "colab": {
          "base_uri": "https://localhost:8080/"
        },
        "id": "pPsAZ-V9JYmQ",
        "outputId": "f870b7e2-b2da-4dad-c32b-04965ceeaea4"
      },
      "execution_count": null,
      "outputs": [
        {
          "output_type": "stream",
          "name": "stdout",
          "text": [
            "radix\n",
            "yes\n"
          ]
        }
      ]
    },
    {
      "cell_type": "markdown",
      "source": [
        "Method using one extra variable: In this method, the user takes a character of string one by one and store it in an empty variable. After storing all the characters user will compare both the string and check whether it is palindrome or not. "
      ],
      "metadata": {
        "id": "eL51txQdgIze"
      }
    },
    {
      "cell_type": "code",
      "source": [
        "\n",
        "# Python program to check\n",
        "# if a string is palindrome\n",
        "# or not\n",
        " \n",
        "x = \"malayalam\"\n",
        " \n",
        "w = \"\"\n",
        "for i in x:\n",
        "    w = i + w\n",
        " \n",
        "if (x == w):\n",
        "    print(\"Yes\")\n",
        "else:\n",
        "    print(\"No\")"
      ],
      "metadata": {
        "colab": {
          "base_uri": "https://localhost:8080/"
        },
        "id": "8wZsKVq-fv8d",
        "outputId": "8a65cc04-0177-4e4e-9d55-7e28eae050a5"
      },
      "execution_count": null,
      "outputs": [
        {
          "output_type": "stream",
          "name": "stdout",
          "text": [
            "Yes\n"
          ]
        }
      ]
    },
    {
      "cell_type": "markdown",
      "source": [
        "Method using flag: In this method, the user compares each character from starting and ending in a for loop and if the character does not match then it will change the status of the flag. Then it will check the status of the flag and accordingly and print whether it is a palindrome or not.  "
      ],
      "metadata": {
        "id": "QQ9K-smxgKtM"
      }
    },
    {
      "cell_type": "code",
      "source": [
        "# Python program to check\n",
        "# if a string is palindrome\n",
        "# or not\n",
        "st = 'malayalam'\n",
        "j = -1\n",
        "flag = 0\n",
        "for i in st:\n",
        "    if i != st[j]:\n",
        "        flag = 1\n",
        "        break\n",
        "    j = j - 1\n",
        "if flag == 1:\n",
        "    print(\"NO\")\n",
        "else:\n",
        "    print(\"Yes\")"
      ],
      "metadata": {
        "colab": {
          "base_uri": "https://localhost:8080/"
        },
        "id": "KoSsjF3JgNx0",
        "outputId": "488b86f5-0b4f-462e-d1a8-b23ac016a678"
      },
      "execution_count": null,
      "outputs": [
        {
          "output_type": "stream",
          "name": "stdout",
          "text": [
            "Yes\n"
          ]
        }
      ]
    },
    {
      "cell_type": "markdown",
      "source": [
        "# Q2. Remove all duplicates from a given string in Python\n",
        "\n",
        "We are given a string and we need to remove all duplicates from it? What will be the output if the order of character matters?\n",
        "\n",
        " Examples:\n",
        "\n",
        "Input : geeksforgeeks \n",
        "\n",
        "Output : efgkors\n",
        "\n",
        "This problem has existing solution please refer Remove all duplicates from a given string. \n",
        "\n",
        "**Method 1:** "
      ],
      "metadata": {
        "id": "Jbh58-TTdaem"
      }
    },
    {
      "cell_type": "code",
      "source": [
        "from collections import OrderedDict\n",
        " \n",
        "# Function to remove all duplicates from string\n",
        "# and order does not matter\n",
        "def removeDupWithoutOrder(str):\n",
        " \n",
        "    # set() --> A Set is an unordered collection\n",
        "    #         data type that is iterable, mutable,\n",
        "    #         and has no duplicate elements.\n",
        "    # \"\".join() --> It joins two adjacent elements in\n",
        "    #             iterable with any symbol defined in\n",
        "    #             \"\" ( double quotes ) and returns a\n",
        "    #             single string\n",
        "    return \"\".join(set(str))\n",
        " \n",
        "# Function to remove all duplicates from string\n",
        "# and keep the order of characters same\n",
        "def removeDupWithOrder(str):\n",
        "    return \"\".join(OrderedDict.fromkeys(str))\n",
        " \n",
        "# Driver program\n",
        "if __name__ == \"__main__\":\n",
        "    str = \"geeksforgeeks\"\n",
        "    print (\"Without Order = \",removeDupWithoutOrder(str))\n",
        "    print (\"With Order = \",removeDupWithOrder(str))"
      ],
      "metadata": {
        "colab": {
          "base_uri": "https://localhost:8080/"
        },
        "outputId": "fef5dca9-5011-466a-ed70-53770b1f8d3d",
        "id": "Ngg1cBczdaeo"
      },
      "execution_count": null,
      "outputs": [
        {
          "output_type": "stream",
          "name": "stdout",
          "text": [
            "Without Order =  ekforgs\n",
            "With Order =  geksfor\n"
          ]
        }
      ]
    },
    {
      "cell_type": "markdown",
      "source": [
        "**Method 2:**"
      ],
      "metadata": {
        "id": "u8HiHdG4hIL_"
      }
    },
    {
      "cell_type": "code",
      "source": [
        "def removeDuplicate(str):\n",
        "    s=set(str)\n",
        "    s=\"\".join(s)\n",
        "    print(\"Without Order:\",s)\n",
        "    t=\"\"\n",
        "    for i in str:\n",
        "        if(i in t):\n",
        "            pass\n",
        "        else:\n",
        "            t=t+i\n",
        "        print(\"With Order:\",t)\n",
        "     \n",
        "str=\"geeksforgeeks\"\n",
        "removeDuplicate(str)"
      ],
      "metadata": {
        "colab": {
          "base_uri": "https://localhost:8080/"
        },
        "id": "gHuO8HCBhKZv",
        "outputId": "bf2a1a52-9388-4ec2-c99a-0e7eb0f6648e"
      },
      "execution_count": null,
      "outputs": [
        {
          "output_type": "stream",
          "name": "stdout",
          "text": [
            "Without Order: ekforgs\n",
            "With Order: g\n",
            "With Order: ge\n",
            "With Order: ge\n",
            "With Order: gek\n",
            "With Order: geks\n",
            "With Order: geksf\n",
            "With Order: geksfo\n",
            "With Order: geksfor\n",
            "With Order: geksfor\n",
            "With Order: geksfor\n",
            "With Order: geksfor\n",
            "With Order: geksfor\n",
            "With Order: geksfor\n"
          ]
        }
      ]
    },
    {
      "cell_type": "code",
      "source": [
        "def removeDuplicate(str):\n",
        "    s=set(str)\n",
        "    s=\"\".join(s)\n",
        "    print(\"Without Order:\",s)\n",
        "    t=\"\"\n",
        "    for i in str:\n",
        "        if(i in t):\n",
        "            pass\n",
        "        else:\n",
        "            t=t+i\n",
        "    print(\"With Order:\",t)\n",
        "     \n",
        "str=\"Python is easy language\"\n",
        "removeDuplicate(str)"
      ],
      "metadata": {
        "colab": {
          "base_uri": "https://localhost:8080/"
        },
        "id": "HDqaa6ltSTfG",
        "outputId": "21518e93-4d4f-4ba7-ea8b-5f3daf05cc44"
      },
      "execution_count": null,
      "outputs": [
        {
          "output_type": "stream",
          "name": "stdout",
          "text": [
            "Without Order: ieuahoP lngtys\n",
            "With Order: Python isealgu\n"
          ]
        }
      ]
    },
    {
      "cell_type": "markdown",
      "source": [
        "# Q3. Python Program for Bubble Sort\n",
        "\n",
        "Bubble Sort is the simplest sorting algorithm that works by repeatedly swapping the adjacent elements if they are in the wrong order. "
      ],
      "metadata": {
        "id": "DQ3dxGe5hXOC"
      }
    },
    {
      "cell_type": "code",
      "source": [
        "\n",
        "# Python program for implementation of Bubble Sort\n",
        " \n",
        "def bubbleSort(arr):\n",
        "    n = len(arr)\n",
        "    # optimize code, so if the array is already sorted, it doesn't need\n",
        "    # to go through the entire process\n",
        "    swapped = False\n",
        "    # Traverse through all array elements\n",
        "    for i in range(n-1):\n",
        "        # range(n) also work but outer loop will\n",
        "        # repeat one time more than needed.\n",
        "        # Last i elements are already in place\n",
        "        for j in range(0, n-i-1):\n",
        " \n",
        "            # traverse the array from 0 to n-i-1\n",
        "            # Swap if the element found is greater\n",
        "            # than the next element\n",
        "            if arr[j] > arr[j + 1]:\n",
        "                swapped = True\n",
        "                arr[j], arr[j + 1] = arr[j + 1], arr[j]\n",
        "         \n",
        "        if not swapped:\n",
        "            # if we haven't needed to make a single swap, we\n",
        "            # can just exit the main loop.\n",
        "            return\n",
        " \n",
        " \n",
        "# Driver code to test above\n",
        "arr = [64, 34, 25, 12, 22, 11, 90]\n",
        " \n",
        "bubbleSort(arr)\n",
        " \n",
        "print(\"Sorted array is:\")\n",
        "for i in range(len(arr)):\n",
        "    print(\"% d\" % arr[i], end=\" \")"
      ],
      "metadata": {
        "colab": {
          "base_uri": "https://localhost:8080/"
        },
        "id": "g44ReeK8hiJ-",
        "outputId": "6505213b-e33c-4bb8-a520-1423d50278d9"
      },
      "execution_count": null,
      "outputs": [
        {
          "output_type": "stream",
          "name": "stdout",
          "text": [
            "Sorted array is:\n",
            " 11  12  22  25  34  64  90 "
          ]
        }
      ]
    },
    {
      "cell_type": "code",
      "source": [
        "def bubblesort(elements):\n",
        "    swapped = False\n",
        "    # Looping from size of array from last index[-1] to index [0]\n",
        "    for n in range(len(elements)-1, 0, -1):\n",
        "        for i in range(n):\n",
        "            if elements[i] > elements[i + 1]:\n",
        "                swapped = True\n",
        "                # swapping data if the element is less than next element in the array\n",
        "                elements[i], elements[i + 1] = elements[i + 1], elements[i]       \n",
        "        if not swapped:\n",
        "            # exiting the function if we didn't make a single swap\n",
        "            # meaning that the array is already sorted.\n",
        "            return\n",
        " \n",
        "elements = [39, 12, 18, 85, 72, 10, 2, 18]\n",
        " \n",
        "print(\"Unsorted list is,\")\n",
        "print(elements)\n",
        "bubblesort(elements)\n",
        "print(\"Sorted Array is, \")\n",
        "print(elements)"
      ],
      "metadata": {
        "colab": {
          "base_uri": "https://localhost:8080/"
        },
        "id": "fh5LWv9qhqLl",
        "outputId": "26ff011e-d743-4781-9cc8-612ab5849164"
      },
      "execution_count": null,
      "outputs": [
        {
          "output_type": "stream",
          "name": "stdout",
          "text": [
            "Unsorted list is,\n",
            "[39, 12, 18, 85, 72, 10, 2, 18]\n",
            "Sorted Array is, \n",
            "[2, 10, 12, 18, 18, 39, 72, 85]\n"
          ]
        }
      ]
    },
    {
      "cell_type": "markdown",
      "source": [
        "# Q4. Python | Print an Inverted Star Pattern\n",
        "\n"
      ],
      "metadata": {
        "id": "AMIYVMm5V2eb"
      }
    },
    {
      "cell_type": "code",
      "source": [
        "n=5\n",
        "for i in range (n, 0, -1):\n",
        "    print( * ' ' + i * '*')"
      ],
      "metadata": {
        "id": "yD8p4P-yV_up",
        "outputId": "b122b3be-6aff-4fff-c439-9ff36fb8662e",
        "colab": {
          "base_uri": "https://localhost:8080/"
        }
      },
      "execution_count": null,
      "outputs": [
        {
          "output_type": "stream",
          "name": "stdout",
          "text": [
            "  * * * * *\n",
            "  * * * *\n",
            "  * * *\n",
            "  * *\n",
            "  *\n"
          ]
        }
      ]
    },
    {
      "cell_type": "code",
      "source": [
        "for i in range (n,0,-1):\n",
        "    print(*\" \",+i * ' * ')"
      ],
      "metadata": {
        "id": "NS5wib1dWGJ5",
        "outputId": "bf5820ab-b31d-4a45-d8a5-741eb018089a",
        "colab": {
          "base_uri": "https://localhost:8080/"
        }
      },
      "execution_count": null,
      "outputs": [
        {
          "output_type": "stream",
          "name": "stdout",
          "text": [
            "   *  *  *  *  * \n",
            "   *  *  *  * \n",
            "   *  *  * \n",
            "   *  * \n",
            "   * \n"
          ]
        }
      ]
    },
    {
      "cell_type": "code",
      "source": [
        "for i in range(0,n,1):\n",
        "    print(* \" \",+ i * \" * \")"
      ],
      "metadata": {
        "id": "23hQO2i6WIFC",
        "outputId": "e6f04d8d-3786-4a38-f07d-1e7079c82af0",
        "colab": {
          "base_uri": "https://localhost:8080/"
        }
      },
      "execution_count": null,
      "outputs": [
        {
          "output_type": "stream",
          "name": "stdout",
          "text": [
            "  \n",
            "   * \n",
            "   *  * \n",
            "   *  *  * \n",
            "   *  *  *  * \n"
          ]
        }
      ]
    },
    {
      "cell_type": "code",
      "source": [
        "n=15\n",
        "for i in range (0,n,1):\n",
        "  print(* ' ' +i * ' * ')"
      ],
      "metadata": {
        "id": "bPNeyT2DD8_I",
        "outputId": "98ef5dce-59a3-43a3-ea6a-5319db53cda4",
        "colab": {
          "base_uri": "https://localhost:8080/"
        }
      },
      "execution_count": null,
      "outputs": [
        {
          "output_type": "stream",
          "name": "stdout",
          "text": [
            " \n",
            "    *  \n",
            "    *     *  \n",
            "    *     *     *  \n",
            "    *     *     *     *  \n",
            "    *     *     *     *     *  \n",
            "    *     *     *     *     *     *  \n",
            "    *     *     *     *     *     *     *  \n",
            "    *     *     *     *     *     *     *     *  \n",
            "    *     *     *     *     *     *     *     *     *  \n",
            "    *     *     *     *     *     *     *     *     *     *  \n",
            "    *     *     *     *     *     *     *     *     *     *     *  \n",
            "    *     *     *     *     *     *     *     *     *     *     *     *  \n",
            "    *     *     *     *     *     *     *     *     *     *     *     *     *  \n",
            "    *     *     *     *     *     *     *     *     *     *     *     *     *     *  \n"
          ]
        }
      ]
    },
    {
      "cell_type": "markdown",
      "source": [
        "**Given any alphabet between A to Z, the task is to print the pattern of the given alphabet using star.**"
      ],
      "metadata": {
        "id": "JA21NqGEWeks"
      }
    },
    {
      "cell_type": "code",
      "source": [
        "# Python implementation to print the\n",
        "# pattern of alphabets A to Z using *\n",
        " \n",
        "# Below height and width variable can be used\n",
        "# to create a user-defined sized alphabet's pattern\n",
        " \n",
        "# Number of lines for the alphabet's pattern\n",
        " \n",
        "height = 5\n",
        " \n",
        "# Number of character width in each line\n",
        " \n",
        "width = (2 * height) - 1\n",
        " \n",
        "# Function to find the absolute value\n",
        "# of a number D\n",
        " \n",
        "def abs(d):\n",
        "    if d < 0:\n",
        "        return -1*d\n",
        "    else:\n",
        "        return d\n",
        " \n",
        "# Function to print the pattern of 'A'\n",
        " \n",
        "def printA():\n",
        " \n",
        "    n = width // 2\n",
        "    for i in range(0, height):\n",
        "        for j in range(0, width+1):\n",
        "            if (j == n or j == (width - n) or (i == (height // 2) and j > n and j < (width - n))):\n",
        "                print(\"*\", end=\"\")\n",
        "            else:\n",
        "                print(end=\" \")\n",
        "        print()\n",
        "        n = n-1\n",
        " \n",
        "# Function to print the pattern of 'B'\n",
        "def printB() :\n",
        "    half = height // 2\n",
        " \n",
        "    for i in range(0,height) :\n",
        "        print(\"*\",end=\"\")\n",
        "        for j in range(0,width) :\n",
        "            if ((i == 0 or i == height - 1 or i == half) and j < (width - 2)) :\n",
        "                print(\"*\",end=\"\")\n",
        "            elif (j == (width - 2) and not(i == 0 or i == height - 1 or i == half)) :\n",
        "                print(\"*\",end=\"\")\n",
        "            else :\n",
        "                print(end=\" \")\n",
        "        print()\n",
        " \n",
        "# Function to print the pattern of 'C'\n",
        "def printC() :\n",
        " \n",
        "    for i in range(0,height) :\n",
        "        print(\"*\",end=\"\")\n",
        "        for j in range(0,height - 1) :\n",
        "            if (i == 0 or i == height - 1 ) :\n",
        "                print(\"*\",end=\"\")\n",
        "            else :\n",
        "                continue\n",
        "        print()\n",
        " \n",
        "# Function to print the pattern of 'D'\n",
        "def printD() :\n",
        "     \n",
        "    for i in range(0,height) :\n",
        "        print(\"*\",end=\"\")\n",
        "        for j in range(0,height) :\n",
        "            if ( (i == 0 or i == height - 1) and j < height - 1 ):\n",
        "                print(\"*\",end=\"\")\n",
        "            elif (j == height - 1 and i != 0 and i != height - 1) :\n",
        "                print(\"*\",end=\"\")\n",
        "            else :\n",
        "                print(end=\" \")\n",
        "        print()\n",
        " \n",
        "# Function to print the pattern of 'E'\n",
        "def printE() :\n",
        "     \n",
        "    for i in range(0,height) :\n",
        "        print(\"*\",end=\"\")\n",
        "        for j in range(0,height) :\n",
        "            if ( (i == 0 or i == height - 1) or (i == height // 2 and j <= height // 2) ):\n",
        "                print(\"*\",end=\"\")\n",
        "            else :\n",
        "                continue\n",
        "        print()\n",
        " \n",
        "# Function to print the pattern of 'F'\n",
        "def printF() :\n",
        "     \n",
        "    for i in range(0,height) :\n",
        "        print(\"*\",end=\"\")\n",
        "        for j in range(0,height) :\n",
        "            if ( (i == 0) or (i == height // 2 and j <= height // 2) ):\n",
        "                print(\"*\",end=\"\")\n",
        "            else :\n",
        "                continue\n",
        "        print()\n",
        " \n",
        "# Function to print the pattern of 'G'\n",
        "def printG() :\n",
        " \n",
        "    for i in range(0,height) :\n",
        "        for j in range(0,width-1) :\n",
        "            if ((i == 0 or i == height - 1) and (j == 0 or j == width - 2)) :\n",
        "                print(end=\" \")\n",
        "            elif (j == 0) :\n",
        "                print(\"*\",end=\"\")\n",
        "            elif (i == 0 and j <= height) :\n",
        "                print(\"*\",end=\"\")\n",
        "            elif (i == height // 2 and j > height // 2) :\n",
        "                print(\"*\",end=\"\")\n",
        "            elif (i > height // 2 and j == width - 2) :\n",
        "                print(\"*\",end=\"\")\n",
        "            elif (i == height - 1 and j < width - 1 ) :\n",
        "                print(\"*\",end=\"\")\n",
        "            else :\n",
        "                print(end=\" \")\n",
        "        print()\n",
        " \n",
        "# Function to print the pattern of 'H'\n",
        "def printH() :\n",
        "     \n",
        "    for i in range(0,height) :\n",
        "        print(\"*\",end=\"\")\n",
        "        for j in range(0,height) :\n",
        "            if ( (j == height - 1) or (i == height // 2) ):\n",
        "                print(\"*\",end=\"\")\n",
        "            else :\n",
        "                print(end=\" \")\n",
        "        print()\n",
        " \n",
        "# Function to print the pattern of 'I'\n",
        "def printI() :\n",
        "     \n",
        "    for i in range(0,height) :\n",
        "        for j in range(0,height) :\n",
        "            if ( i == 0 or i == height - 1 ):\n",
        "                print(\"*\",end=\"\")\n",
        "            elif ( j == height // 2 ) :\n",
        "                print(\"*\",end=\"\")\n",
        "            else :\n",
        "                print(end=\" \")\n",
        "        print()\n",
        " \n",
        "# Function to print the pattern of 'J'\n",
        "def printJ() :\n",
        "     \n",
        "    for i in range(0,height) :\n",
        "        for j in range(0,height) :\n",
        "            if ( i == height - 1 and (j > 0 and j < height - 1) ):\n",
        "                print(\"*\",end=\"\")\n",
        "            elif ( (j == height - 1 and i != height - 1) or (i > (height // 2) - 1 and j == 0 and i != height - 1) ) :\n",
        "                print(\"*\",end=\"\")\n",
        "            else :\n",
        "                print(end=\" \")\n",
        "        print()\n",
        " \n",
        "# Function to print the pattern of 'K'\n",
        "def printK() :\n",
        "    half = height // 2\n",
        "    dummy = half\n",
        "    for i in range(0,height) :\n",
        "        print(\"*\",end=\"\")\n",
        "        for j in range(0,half+1) :\n",
        "            if ( j == abs(dummy) ):\n",
        "                print(\"*\",end=\"\")\n",
        "            else :\n",
        "                print(end=\" \")\n",
        "        print()\n",
        "        dummy = dummy -1\n",
        " \n",
        "# Function to print the pattern of 'L'\n",
        "def printL() :\n",
        "     \n",
        "    for i in range(0,height) :\n",
        "        print(\"*\",end=\"\")\n",
        "        for j in range(0,height+1) :\n",
        "            if ( i == height - 1 ):\n",
        "                print(\"*\",end=\"\")\n",
        "            else :\n",
        "                print(end=\" \")\n",
        "        print()\n",
        " \n",
        "# Function to print the pattern of 'M'\n",
        "def printM() :\n",
        "    counter = 0\n",
        "    for i in range(0,height) :\n",
        "        print(\"*\",end=\"\")\n",
        "        for j in range(0,height+1) :\n",
        "            if ( j == height ):\n",
        "                print(\"*\",end=\"\")\n",
        "            elif ( j == counter or j == height - counter - 1 ) :\n",
        "                print(\"*\",end=\"\")\n",
        "            else :\n",
        "                print(end=\" \")\n",
        "        if(counter == height // 2) :\n",
        "            counter = -99999\n",
        "        else :\n",
        "            counter = counter + 1\n",
        "         \n",
        "        print()\n",
        " \n",
        "# Function to print the pattern of 'N'\n",
        "def printN() :\n",
        "    counter = 0\n",
        "    for i in range(0,height) :\n",
        "        print(\"*\",end=\"\")\n",
        "        for j in range(0,height+1) :\n",
        "            if ( j == height ):\n",
        "                print(\"*\",end=\"\")\n",
        "            elif ( j == counter) :\n",
        "                print(\"*\",end=\"\")\n",
        "            else :\n",
        "                print(end=\" \")\n",
        "        counter = counter + 1\n",
        "        print()\n",
        " \n",
        "# Function to print the pattern of 'O'\n",
        "def printO() :\n",
        "    space = height // 3\n",
        "    width = height // 2 + height // 5 + space + space\n",
        "    for i in range(0,height) :\n",
        "        for j in range(0,width + 1) :\n",
        "            if ( j == width - abs(space) or j == abs(space)):\n",
        "                print(\"*\",end=\"\")\n",
        "            elif( (i == 0 or i == height - 1) and j > abs(space) and j < width - abs(space) ) :\n",
        "                print(\"*\",end=\"\")\n",
        "            else :\n",
        "                print(end=\" \")\n",
        " \n",
        "        if( space != 0 and i < height // 2) :\n",
        "            space = space -1\n",
        "        elif ( i >= (height // 2 + height // 5) ) :\n",
        "            space = space -1\n",
        " \n",
        "        print()\n",
        " \n",
        "# Function to print the pattern of 'P'\n",
        "def printP() :\n",
        "    for i in range(0,height) :\n",
        "        print(\"*\",end=\"\")\n",
        "        for j in range(0,height) :\n",
        "            if ( (i == 0 or i == height // 2) and j < height - 1 ):\n",
        "                print(\"*\",end=\"\")\n",
        "            elif ( i < height // 2 and j == height - 1 and i != 0 ) :\n",
        "                print(\"*\",end=\"\")\n",
        "            else :\n",
        "                print(end=\" \")\n",
        "        print()\n",
        " \n",
        "# Function to print the pattern of 'Q'\n",
        "def printQ() :\n",
        "    printO()\n",
        "    d = height\n",
        "    for i in range(0,height//2) :\n",
        "        for j in range(0,d+1) :\n",
        "            if ( j == d ):\n",
        "                print(\"*\",end=\"\")\n",
        "            else :\n",
        "                print(end=\" \")\n",
        "        print()\n",
        "        d = d+1\n",
        " \n",
        "# Function to print the pattern of 'R'\n",
        "def printR() :\n",
        "    half = (height // 2)\n",
        "    for i in range(0,height) :\n",
        "        print(\"*\",end=\"\")\n",
        "        for j in range(0,width) :\n",
        "            if ( (i == 0 or i == half) and j < (width - 2) ):\n",
        "                print(\"*\",end=\"\")\n",
        "            elif ( j == (width - 2) and not(i == 0 or i == half) ) :\n",
        "                print(\"*\",end=\"\")\n",
        "            else :\n",
        "                print(end=\" \")\n",
        "        print()\n",
        " \n",
        "# Function to print the pattern of 'S'\n",
        "def printS() :\n",
        "    for i in range(0,height) :\n",
        "        for j in range(0,height) :\n",
        "            if ( (i == 0 or i == height // 2 or i == height - 1) ):\n",
        "                print(\"*\",end=\"\")\n",
        "            elif ( i < height // 2 and j == 0 ) :\n",
        "                print(\"*\",end=\"\")\n",
        "            elif ( i > height // 2 and j == height - 1 ) :\n",
        "                print(\"*\",end=\"\")\n",
        "            else :\n",
        "                print(end=\" \")\n",
        "        print()\n",
        " \n",
        "# Function to print the pattern of 'T'\n",
        "def printT() :\n",
        "    for i in range(0,height) :\n",
        "        for j in range(0,height) :\n",
        "            if ( i == 0 ):\n",
        "                print(\"*\",end=\"\")\n",
        "            elif ( j == height // 2 ) :\n",
        "                print(\"*\",end=\"\")\n",
        "            else :\n",
        "                print(end=\" \")\n",
        "        print()\n",
        " \n",
        "# Function to print the pattern of 'U'\n",
        "def printU() :\n",
        "    for i in range(0,height) :\n",
        "        if (i != 0 and i != height - 1) :\n",
        "            print(\"*\",end=\"\")\n",
        "        else :\n",
        "            print(end = \" \")\n",
        "        for j in range(0,height) :\n",
        "            if ( ((i == height - 1) and j >= 0 and j < height - 1) ):\n",
        "                print(\"*\",end=\"\")\n",
        "            elif ( j == height - 1 and i != 0 and i != height - 1 ) :\n",
        "                print(\"*\",end=\"\")\n",
        "            else :\n",
        "                print(end=\" \")\n",
        "        print()\n",
        " \n",
        "# Function to print the pattern of 'V'\n",
        "def printV() :\n",
        "    counter = 0\n",
        "    for i in range(0,height) :\n",
        "        for j in range(0,width+1) :\n",
        "            if ( j == counter or j == width - counter - 1 ):\n",
        "                print(\"*\",end=\"\")\n",
        "            else :\n",
        "                print(end=\" \")\n",
        " \n",
        "        counter = counter + 1\n",
        "        print()\n",
        " \n",
        "# Function to print the pattern of 'W'\n",
        "def printW() :\n",
        "    counter = height // 2\n",
        "    for i in range(0,height) :\n",
        "        print(\"*\",end=\"\")\n",
        "        for j in range(0,height+1) :\n",
        "            if ( j == height ):\n",
        "                print(\"*\",end=\"\")\n",
        "            elif ( (i >= height // 2) and (j == counter or j == height - counter - 1) ) :\n",
        "                print(\"*\",end=\"\")\n",
        "            else :\n",
        "                print(end=\" \")\n",
        "        if( i >= height // 2) :\n",
        "            counter = counter + 1\n",
        "        print()\n",
        " \n",
        "# Function to print the pattern of 'X'\n",
        "def printX() :\n",
        "    counter = 0\n",
        "    for i in range(0,height+1) :\n",
        "        for j in range(0,height+1) :\n",
        "            if ( j == counter or j == height - counter ):\n",
        "                print(\"*\",end=\"\")\n",
        "            else :\n",
        "                print(end=\" \")\n",
        "        counter = counter + 1\n",
        "        print()\n",
        " \n",
        "# Function to print the pattern of 'Y'\n",
        "def printY() :\n",
        "    counter = 0\n",
        "    for i in range(0,height) :\n",
        "        for j in range(0,height+1) :\n",
        "            if ( j == counter or j == height - counter and i <= height // 2 ):\n",
        "                print(\"*\",end=\"\")\n",
        "            else :\n",
        "                print(end=\" \")\n",
        "        print()\n",
        "        if (i < height // 2) :\n",
        "            counter = counter + 1\n",
        " \n",
        "# Function to print the pattern of 'Z'\n",
        "def printZ() :\n",
        "    counter = height - 1\n",
        "    for i in range(0,height) :\n",
        "        for j in range(0,height) :\n",
        "            if ( i == 0 or i == height - 1 or j == counter ):\n",
        "                print(\"*\",end=\"\")\n",
        "            else :\n",
        "                print(end=\" \")\n",
        "        counter = counter - 1\n",
        "        print()\n",
        " \n",
        "  \n",
        "# Function print the pattern of the\n",
        "# alphabets from A to Z\n",
        " \n",
        "def printPattern(character) :\n",
        "     \n",
        "    if character == 'A' : return  printA()\n",
        "    elif character == 'B': return printB()\n",
        "    elif character == 'C': return printC()\n",
        "    elif character == 'D': return printD()\n",
        "    elif character == 'E': return printE(),\n",
        "    elif character == 'F': return printF(),\n",
        "    elif character == 'G': return printG(),\n",
        "    elif character == 'H': return printH(),\n",
        "    elif character == 'I': return printI(),\n",
        "    elif character == 'J': return printJ(),\n",
        "    elif character == 'K': return printK(),\n",
        "    elif character == 'L': return printL(),\n",
        "    elif character == 'M': return printM(),\n",
        "    elif character == 'N': return printN(),\n",
        "    elif character == 'O': return printO(),\n",
        "    elif character == 'P': return printP(),\n",
        "    elif character == 'Q': return printQ(),\n",
        "    elif character == 'R': return printR(),\n",
        "    elif character == 'S': return printS(),\n",
        "    elif character == 'T': return printT(),\n",
        "    elif character == 'U': return printU(),\n",
        "    elif character == 'V': return printV(),\n",
        "    elif character == 'W': return printW(),\n",
        "    elif character == 'X': return printX(),\n",
        "    elif character == 'Y': return printY()\n",
        "    else : printZ()\n",
        " \n",
        "# Driver Code\n",
        "if __name__ == \"__main__\":\n",
        "    character = 'S'\n",
        "    printPattern(character)"
      ],
      "metadata": {
        "colab": {
          "base_uri": "https://localhost:8080/"
        },
        "id": "xLLOkHzXAZoE",
        "outputId": "82181a68-9058-41ce-ba0b-5e4b43fdf725"
      },
      "execution_count": null,
      "outputs": [
        {
          "output_type": "stream",
          "name": "stdout",
          "text": [
            "*****\n",
            "*    \n",
            "*****\n",
            "    *\n",
            "*****\n"
          ]
        }
      ]
    },
    {
      "cell_type": "code",
      "source": [
        "#program to print x\n",
        "number=int(input('enter the number'))\n",
        "n_length=int(number)\n",
        "for i in range(n_length):\n",
        "  for j in range(n_length):\n",
        "    if i==j or i+j==n_length-1:\n",
        "      print(number,end=\" \")\n",
        "    else:\n",
        "      print(\" \",end=\"\")  \n",
        "  print()"
      ],
      "metadata": {
        "id": "ExBptzQA0BEy",
        "outputId": "cd20d440-112b-4aa1-e166-88303da7b248",
        "colab": {
          "base_uri": "https://localhost:8080/"
        }
      },
      "execution_count": null,
      "outputs": [
        {
          "output_type": "stream",
          "name": "stdout",
          "text": [
            "enter the number10\n",
            "10         10 \n",
            " 10       10  \n",
            "  10     10   \n",
            "   10   10    \n",
            "    10 10     \n",
            "    10 10     \n",
            "   10   10    \n",
            "  10     10   \n",
            " 10       10  \n",
            "10         10 \n"
          ]
        }
      ]
    },
    {
      "cell_type": "markdown",
      "source": [
        "# Q5. Remove duplicate words from Sentence using Regular Expression\n",
        "\n",
        "\n",
        " \n",
        "regex = \"\\\\b(\\\\w+)(?:\\\\W+\\\\1\\\\b)+\";\n",
        "\n",
        "1.  The details of the above regular expression can be understood as: \n",
        "* “\\\\b”: A word boundary. Boundaries are needed for special cases. For example, in “My thesis is great”, “is” wont be matched twice.\n",
        "* “\\\\w+” A word character: [a-zA-Z_0-9] \n",
        " \n",
        "* “\\\\W+”: A non-word character: [^\\w] \n",
        " \n",
        "* “\\\\1”: Matches whatever was matched in the 1st group of parentheses, which in this case is the (\\w+) \n",
        " \n",
        "* “+”: Match whatever it’s placed after 1 or more times \n",
        " \n",
        "2. Match the sentence with the Regex. In Java, this can be done using Pattern.matcher().\n",
        " \n",
        "3. return the modified sentence.\n",
        "\n",
        "Below is the implementation of the above approach:"
      ],
      "metadata": {
        "id": "NCTALgfIztTO"
      }
    },
    {
      "cell_type": "code",
      "source": [
        "\n",
        "# Python program to remove duplicate words\n",
        "# using Regular Expression or ReGex.\n",
        "import re\n",
        " \n",
        " \n",
        "# Function to validate the sentence\n",
        "# and remove the duplicate words\n",
        "def removeDuplicateWords(input):\n",
        " \n",
        "    # Regex to matching repeated words\n",
        "    regex = r'\\b(\\w+)(?:\\W+\\1\\b)+'\n",
        " \n",
        "    return re.sub(regex, r'\\1', input, flags=re.IGNORECASE)\n",
        " \n",
        " \n",
        "# Driver Code\n",
        " \n",
        "# Test Case: 1\n",
        "str1 = \"Good bye bye world world\"\n",
        "print(removeDuplicateWords(str1))\n",
        "#Input: str = “Good bye bye world world” \n",
        "#Output: Good bye world \n",
        "#Explanation: \n",
        "#We remove the second occurrence of bye and world from Good bye bye world world \n",
        "\n",
        "# Test Case: 2\n",
        "str2 = \"Ram went went to to his home\"\n",
        "print(removeDuplicateWords(str2))\n",
        "#Input: str = “Ram went went to to to his home” \n",
        "#Output: Ram went to his home \n",
        "#Explanation: \n",
        "#We remove the second occurrence of went and the second and third occurrences of to from Ram went went to to to his home. \n",
        "\n",
        "# Test Case: 3\n",
        "str3 = \"Hello hello world world\"\n",
        "print(removeDuplicateWords(str3))\n",
        "#Input: str = “Hello hello world world” \n",
        "#Output: Hello world \n",
        "#Explanation: \n",
        "#We remove the second occurrence of hello and world from Hello hello world world \n"
      ],
      "metadata": {
        "id": "pcWRhbZX0oRa",
        "outputId": "93f7cf7d-f08c-45d6-c5b0-bd3cf8f93ba9",
        "colab": {
          "base_uri": "https://localhost:8080/"
        }
      },
      "execution_count": null,
      "outputs": [
        {
          "output_type": "stream",
          "name": "stdout",
          "text": [
            "Good bye world\n",
            "Ram went to his home\n",
            "Hello world\n"
          ]
        }
      ]
    },
    {
      "cell_type": "markdown",
      "source": [
        "#Q 6.**Python program to print all Prime numbers in an Interval**\n",
        "\n",
        "Given two positive integers start and end. The task is to write a Python program to print all Prime numbers in an Interval.\n",
        "\n",
        "Definition: A prime number is a natural number greater than 1 that has no positive divisors other than 1 and itself. The first few prime numbers are {2, 3, 5, 7, 11, ….}.\n",
        "\n",
        "The idea to solve this problem is to iterate the val from start to end using a for loop and for every number, if it is greater than 1, check if it divides n. If we find any other number which divides, print that value.\n",
        "\n",
        "Below is the Python implementation: "
      ],
      "metadata": {
        "id": "Q_2XUSHCnfpx"
      }
    },
    {
      "cell_type": "code",
      "source": [
        "\n",
        "# Python program to print all\n",
        "# prime number in an interval\n",
        " \n",
        "def prime(x, y):\n",
        "    prime_list = []\n",
        "    for i in range(x, y):\n",
        "        if i == 0 or i == 1:\n",
        "            continue\n",
        "        else:\n",
        "            for j in range(2, int(i/2)+1):\n",
        "                if i % j == 0:\n",
        "                    break\n",
        "            else:\n",
        "                prime_list.append(i)\n",
        "    return prime_list\n",
        " \n",
        "# Driver program\n",
        "starting_range = 2\n",
        "ending_range = 7\n",
        "lst = prime(starting_range, ending_range)\n",
        "if len(lst) == 0:\n",
        "    print(\"There are no prime numbers in this range\")\n",
        "else:\n",
        "    print(\"The prime numbers in this range are: \", lst)"
      ],
      "metadata": {
        "colab": {
          "base_uri": "https://localhost:8080/"
        },
        "id": "PGyllCl_nqKP",
        "outputId": "cab35f70-823f-4666-b712-68b58f60b700"
      },
      "execution_count": null,
      "outputs": [
        {
          "output_type": "stream",
          "name": "stdout",
          "text": [
            "The prime numbers in this range are:  [2, 3, 5]\n"
          ]
        }
      ]
    },
    {
      "cell_type": "markdown",
      "source": [
        "# Q 7.**Python Program for n-th Fibonacci number**\n",
        "\n",
        "In mathematical terms, the sequence Fn of Fibonacci numbers is defined by the recurrence relation \n",
        "\n",
        "Fn = Fn-1 + Fn-2\n",
        "\n",
        "With seed values \n",
        "\n",
        "F0 = 0 and F1 = 1.\n",
        "\n",
        "**Method 1 ( Use recursion ) :**"
      ],
      "metadata": {
        "id": "5JLK0bx4n0I_"
      }
    },
    {
      "cell_type": "code",
      "source": [
        "\n",
        "# Function for nth Fibonacci number\n",
        " \n",
        "def Fibonacci(n):\n",
        "    if n<= 0:\n",
        "        print(\"Incorrect input\")\n",
        "    # First Fibonacci number is 0\n",
        "    elif n == 1:\n",
        "        return 0\n",
        "    # Second Fibonacci number is 1\n",
        "    elif n == 2:\n",
        "        return 1\n",
        "    else:\n",
        "        return Fibonacci(n-1)+Fibonacci(n-2)\n",
        " \n",
        "# Driver Program\n",
        " \n",
        "print(Fibonacci(10))\n"
      ],
      "metadata": {
        "colab": {
          "base_uri": "https://localhost:8080/"
        },
        "id": "zcriiLrYoMcN",
        "outputId": "86eef271-44ed-4a9e-de6f-e2a344a39c3f"
      },
      "execution_count": null,
      "outputs": [
        {
          "output_type": "stream",
          "name": "stdout",
          "text": [
            "34\n"
          ]
        }
      ]
    },
    {
      "cell_type": "markdown",
      "source": [
        "**Method 2 ( Use Dynamic Programming ) :**"
      ],
      "metadata": {
        "id": "LaTcK18qoYZx"
      }
    },
    {
      "cell_type": "code",
      "source": [
        "# Function for nth fibonacci number - Dynamic Programming\n",
        "# Taking 1st two fibonacci numbers as 0 and 1\n",
        " \n",
        "FibArray = [0, 1]\n",
        " \n",
        "def fibonacci(n):\n",
        "    if n<0:\n",
        "        print(\"Incorrect input\")\n",
        "    elif n<= len(FibArray):\n",
        "        return FibArray[n-1]\n",
        "    else:\n",
        "        temp_fib = fibonacci(n-1)+fibonacci(n-2)\n",
        "        FibArray.append(temp_fib)\n",
        "        return temp_fib\n",
        " \n",
        "# Driver Program\n",
        " \n",
        "print(fibonacci(9))\n"
      ],
      "metadata": {
        "colab": {
          "base_uri": "https://localhost:8080/"
        },
        "id": "G9kJ-8yEobAX",
        "outputId": "36fe0ff9-21ec-48cd-a62b-9e82dd77fb3d"
      },
      "execution_count": null,
      "outputs": [
        {
          "output_type": "stream",
          "name": "stdout",
          "text": [
            "21\n"
          ]
        }
      ]
    },
    {
      "cell_type": "markdown",
      "source": [
        "**Method 3 ( Use Dynamic Programming with Space Optimization) :**"
      ],
      "metadata": {
        "id": "NOyGj2FZojgl"
      }
    },
    {
      "cell_type": "code",
      "source": [
        "# Function for nth fibonacci number - Space Optimisation\n",
        "# Taking 1st two fibonacci numbers as 0 and 1\n",
        " \n",
        "def fibonacci(n):\n",
        "    a = 0\n",
        "    b = 1\n",
        "    if n < 0:\n",
        "        print(\"Incorrect input\")\n",
        "    elif n == 0:\n",
        "        return a\n",
        "    elif n == 1:\n",
        "        return b\n",
        "    else:\n",
        "        for i in range(2, n):\n",
        "            c = a + b\n",
        "            a = b\n",
        "            b = c\n",
        "        return b\n",
        " \n",
        "# Driver Program\n",
        " \n",
        "print(fibonacci(9))"
      ],
      "metadata": {
        "colab": {
          "base_uri": "https://localhost:8080/"
        },
        "id": "m3MDeOqCom7F",
        "outputId": "08ebfd21-9f33-4d4e-8916-0eab4bf93e85"
      },
      "execution_count": null,
      "outputs": [
        {
          "output_type": "stream",
          "name": "stdout",
          "text": [
            "21\n"
          ]
        }
      ]
    },
    {
      "cell_type": "markdown",
      "source": [
        "**Method 4 ( Using Arrays ) :**"
      ],
      "metadata": {
        "id": "vx5H8H_XosXm"
      }
    },
    {
      "cell_type": "code",
      "source": [
        "# creating an array in the function to find the\n",
        "#nth number in fibonacci series. [0, 1, 1, ...]\n",
        "def fibonacci(n):\n",
        "    if n <= 0:\n",
        "        return \"Incorrect Output\"\n",
        "    data = [0, 1]\n",
        "    if n > 2:\n",
        "        for i in range(2, n):\n",
        "            data.append(data[i-1] + data[i-2])\n",
        "    return data[n-1]\n",
        " \n",
        "# Driver Program\n",
        "print(fibonacci(9))"
      ],
      "metadata": {
        "colab": {
          "base_uri": "https://localhost:8080/"
        },
        "id": "Kg3VQGzhoxOQ",
        "outputId": "049fe6fd-5300-4120-cd1a-02aac723b60b"
      },
      "execution_count": null,
      "outputs": [
        {
          "output_type": "stream",
          "name": "stdout",
          "text": [
            "21\n"
          ]
        }
      ]
    },
    {
      "cell_type": "markdown",
      "source": [
        "# Q 8. **Python Program for cube sum of first n natural numbers**\n",
        "\n",
        "Print the sum of series 13 + 23 + 33 + 43 + …….+ n3 till n-th term. Examples:\n",
        "\n",
        "> Input : n = 5\n",
        "\n",
        "> Output : 225\n",
        "\n",
        ">13 + 23 + 33 + 43 + 53 = 225\n",
        "\n",
        "> Input : n = 7\n",
        "\n",
        "> Output : 784\n",
        "\n",
        "> 13 + 23 + 33 + 43 + 53 + \n",
        "\n",
        "> 63 + 73 = 784"
      ],
      "metadata": {
        "id": "qQBGmnqppZ1R"
      }
    },
    {
      "cell_type": "code",
      "source": [
        "\n",
        "# Simple Python program to find sum of series\n",
        "# with cubes of first n natural numbers\n",
        " \n",
        "# Returns the sum of series\n",
        "def sumOfSeries(n):\n",
        "    sum = 0\n",
        "    for i in range(1, n+1):\n",
        "        sum +=pow(i,3)\n",
        "         \n",
        "    return sum\n",
        " \n",
        "  \n",
        "# Driver Function\n",
        "n = 8\n",
        "print(sumOfSeries(n))\n",
        " \n"
      ],
      "metadata": {
        "colab": {
          "base_uri": "https://localhost:8080/"
        },
        "id": "lCrvqAlyqC0H",
        "outputId": "c8c1570a-9020-41b8-b185-f4610aceedce"
      },
      "execution_count": null,
      "outputs": [
        {
          "output_type": "stream",
          "name": "stdout",
          "text": [
            "1296\n"
          ]
        }
      ]
    },
    {
      "cell_type": "markdown",
      "source": [
        "**Time Complexity : O(n) An efficient solution is to use direct mathematical formula which is (n ( n + 1 ) / 2) ^ 2** "
      ],
      "metadata": {
        "id": "V4LU8yGNqI-Q"
      }
    },
    {
      "cell_type": "code",
      "source": [
        "#(For n = 5 sum by formula is\n",
        "#       (5*(5 + 1 ) / 2)) ^ 2\n",
        "#          = (5*6/2) ^ 2\n",
        "#          = (15) ^ 2\n",
        "#          = 225\n",
        "\n",
        "#For n = 7, sum by formula is\n",
        "#       (7*(7 + 1 ) / 2)) ^ 2\n",
        "#          = (7*8/2) ^ 2\n",
        "#          = (28) ^ 2\n",
        "#          = 784)'''''"
      ],
      "metadata": {
        "id": "ZXoHWS6yqMo4"
      },
      "execution_count": null,
      "outputs": []
    },
    {
      "cell_type": "code",
      "source": [
        "# A formula based Python program to find sum\n",
        "# of series with cubes of first n natural\n",
        "# numbers\n",
        " \n",
        "# Returns the sum of series\n",
        "def sumOfSeries(n):\n",
        "    x = (n * (n + 1)  / 2)\n",
        "    return (int)(x * x)\n",
        " \n",
        " \n",
        "  \n",
        "# Driver Function\n",
        "n = 5\n",
        "print(sumOfSeries(n))\n",
        " \n"
      ],
      "metadata": {
        "colab": {
          "base_uri": "https://localhost:8080/"
        },
        "id": "2SkndrSwqvR-",
        "outputId": "b55d89a7-2f8e-47bb-bd18-282cc0f03de4"
      },
      "execution_count": null,
      "outputs": [
        {
          "output_type": "stream",
          "name": "stdout",
          "text": [
            "225\n"
          ]
        }
      ]
    },
    {
      "cell_type": "markdown",
      "source": [
        "**Time Complexity : O(1) How does this formula work? We can prove the formula using mathematical induction. We can easily see that the formula holds true for n = 1 and n = 2. Let this be true for n = k-1.**"
      ],
      "metadata": {
        "id": "wGQHZX0sq3g_"
      }
    },
    {
      "cell_type": "code",
      "source": [
        "#Let the formula be true for n = k-1.\n",
        "#Sum of first (k-1) natural numbers = \n",
        "#            [((k - 1) * k)/2]2\n",
        "\n",
        "#Sum of first k natural numbers = \n",
        "#          = Sum of (k-1) numbers + k3\n",
        "#          = [((k - 1) * k)/2]2 + k3\n",
        "#          = [k2(k2 - 2k + 1) + 4k3]/4\n",
        "#          = [k4 + 2k3 + k2]/4\n",
        "#          = k2(k2 + 2k + 1)/4\n",
        "#          = [k*(k+1)/2]2"
      ],
      "metadata": {
        "id": "J9vFImc8q42u"
      },
      "execution_count": null,
      "outputs": []
    },
    {
      "cell_type": "markdown",
      "source": [
        "**The above program causes overflow, even if result is not beyond integer limit. Like previous post, we can avoid overflow upto some extent by doing division first.**"
      ],
      "metadata": {
        "id": "smavhF9orKJJ"
      }
    },
    {
      "cell_type": "code",
      "source": [
        "\n",
        "# Efficient Python program to find sum of cubes\n",
        "# of first n natural numbers that avoids\n",
        "# overflow if result is going to be withing\n",
        "# limits.\n",
        " \n",
        "# Returns the sum of series\n",
        "def sumOfSeries(n):\n",
        "    x = 0\n",
        "    if n % 2 == 0 :\n",
        "        x = (n/2) * (n+1)\n",
        "    else:\n",
        "        x = ((n + 1) / 2) * n\n",
        "         \n",
        "    return (int)(x * x)\n",
        " \n",
        "  \n",
        "# Driver Function\n",
        "n = 5\n",
        "print(sumOfSeries(n))\n",
        " "
      ],
      "metadata": {
        "colab": {
          "base_uri": "https://localhost:8080/"
        },
        "id": "eIe7mYfWrGD3",
        "outputId": "b6885233-efd6-46f8-84b2-6a439b853707"
      },
      "execution_count": null,
      "outputs": [
        {
          "output_type": "stream",
          "name": "stdout",
          "text": [
            "225\n"
          ]
        }
      ]
    },
    {
      "cell_type": "markdown",
      "source": [
        "**Method:** Finding cube sum of first n natural numbers using built-in function pow(). The pow() function finds the cube of a number by giving the values of i and number. ex: pow(i,3). "
      ],
      "metadata": {
        "id": "iHhWBW3NrZ4z"
      }
    },
    {
      "cell_type": "code",
      "source": [
        "# Python code\n",
        "# to print cube sum of first n natural numbers\n",
        "# using inbuilt function pow()\n",
        " \n",
        "n=5\n",
        "s=0\n",
        "# iterating loop up to given number n\n",
        "for i in range(1,n+1):\n",
        "    # adding cube sum using pow() function\n",
        "    s=s+pow(i,3)\n",
        "print(s)   "
      ],
      "metadata": {
        "colab": {
          "base_uri": "https://localhost:8080/"
        },
        "id": "v2zc6v4SrccN",
        "outputId": "3c39b7da-fe27-4ade-f6c5-d945b3c4de0e"
      },
      "execution_count": null,
      "outputs": [
        {
          "output_type": "stream",
          "name": "stdout",
          "text": [
            "225\n"
          ]
        }
      ]
    },
    {
      "cell_type": "markdown",
      "source": [
        "* Explanation:\n",
        "\n",
        "[0, 1, 1, 2, 3, 5, 8, 13, 21, 34, 55, 89, 144]\n",
        "\n",
        "As we know that the Fibonacci series is the sum of the previous two terms, so if we enter 12 as the input in the program, so we should get 144 as the output. And that is what is the result. \n",
        "\n",
        "\n",
        "\n"
      ],
      "metadata": {
        "id": "9EvXQHJBo5eS"
      }
    },
    {
      "cell_type": "markdown",
      "source": [
        "# Q 9 **Python Program to check if given array is Monotonic**\n",
        "\n",
        "Given an array A containing n integers. The task is to check whether the array is Monotonic or not. An array is monotonic if it is either monotone increasing or monotone decreasing. An array A is monotone increasing if for all i <= j, A[i] <= A[j]. \n",
        "\n",
        "An array A is monotone decreasing if for all i <= j, A[i] >= A[j]. \n",
        "\n",
        "Return Type: Boolean value, “True” if the given array A is monotonic else return “False” (without quotes). \n",
        "\n",
        "Examples:\n",
        "\n",
        "> Input : 6 5 4 4\n",
        "\n",
        "> Output : true\n",
        "\n",
        "> Input : 5 15 20 10\n",
        "\n",
        "> Output : false\n",
        "\n",
        "**Approach : Using extend() and sort()**\n",
        "\n",
        "- First copy the given array into two different arrays using extend()\n",
        "- Sort the first array in ascending order using sort()\n",
        "- Sort the second array in descending order using sort(reverse=True)\n",
        "- If the given array is equal to any of the two arrays then the array is monotonic"
      ],
      "metadata": {
        "id": "0kpM_eeirmYN"
      }
    },
    {
      "cell_type": "code",
      "source": [
        "\n",
        "# Check if given array is Monotonic\n",
        "def isMonotonic(A):\n",
        "    x, y = [], []\n",
        "    x.extend(A)\n",
        "    y.extend(A)\n",
        "    x.sort()\n",
        "    y.sort(reverse=True)\n",
        "    if(x == A or y == A):\n",
        "        return True\n",
        "    return False\n",
        " \n",
        " \n",
        "# Driver program\n",
        "A = [6, 5, 4, 4]\n",
        " \n",
        "# Print required result\n",
        "print(isMonotonic(A))"
      ],
      "metadata": {
        "colab": {
          "base_uri": "https://localhost:8080/"
        },
        "id": "smIe3An8sUp5",
        "outputId": "038bc3be-94a5-45f6-945e-8dc1a59cec6c"
      },
      "execution_count": null,
      "outputs": [
        {
          "output_type": "stream",
          "name": "stdout",
          "text": [
            "True\n"
          ]
        }
      ]
    },
    {
      "cell_type": "markdown",
      "source": [
        "**Approach:** \n",
        "\n",
        "An array is *monotonic* if and only if it is *monotone increasing*, or *monotone decreasing*. Since *p <= q* and *q <= r* implies *p <= r*. So we only need to check adjacent elements to determine if the array is monotone increasing (or decreasing), respectively. We can check each of these properties in one pass.\n",
        "\n",
        "To check whether an array A is *monotone increasing*, we’ll check *A[i] <= A[i+1]* for all i indexing from 0 to len(A)-2. Similarly we can check for *monotone decreasing* where *A[i] >= A[i+1]* for all i indexing from 0 to len(A)-2. \n",
        "\n",
        "***Note: Array with single element* can be considered to be both *monotonic increasing or decreasing*, hence returns *“True“*.***\n",
        "\n",
        "Below is the implementation of the above approach:"
      ],
      "metadata": {
        "id": "FkCuShX2scWe"
      }
    },
    {
      "cell_type": "code",
      "source": [
        "# Python Program to check if given array is Monotonic\n",
        " \n",
        "# Check if given array is Monotonic\n",
        " \n",
        " \n",
        "def isMonotonic(A):\n",
        " \n",
        "    return (all(A[i] <= A[i + 1] for i in range(len(A) - 1)) or\n",
        "            all(A[i] >= A[i + 1] for i in range(len(A) - 1)))\n",
        " \n",
        " \n",
        "# Driver program\n",
        "A = [6, 5, 4, 4]\n",
        " \n",
        "# Print required result\n",
        "print(isMonotonic(A))\n",
        " \n",
        "# This code is written by\n",
        "# Sanjit_Prasad"
      ],
      "metadata": {
        "colab": {
          "base_uri": "https://localhost:8080/"
        },
        "id": "BZ3oDynNtL0_",
        "outputId": "a674fb82-815a-4e71-f943-c4aad83cdf6d"
      },
      "execution_count": null,
      "outputs": [
        {
          "output_type": "stream",
          "name": "stdout",
          "text": [
            "True\n"
          ]
        }
      ]
    },
    {
      "cell_type": "markdown",
      "source": [
        "# Q 10. **Python program to find second largest number in a list**\n",
        "\n",
        "Given a list of numbers, the task is to write a Python program to find the second largest number in the given list.\n",
        "\n",
        "**Examples:** \n",
        "\n",
        "*Input*: list1 = [10, 20, 4]\n",
        "\n",
        "*Output*: 10\n",
        "\n",
        "*Input*: list2 = [70, 11, 20, 4, 100]\n",
        "\n",
        "*Output*: 70\n",
        "\n",
        "**Method 1**: Sorting is an easier but less optimal method. Given below is an O(n) algorithm to do the same."
      ],
      "metadata": {
        "id": "BZEbN4kXtSO0"
      }
    },
    {
      "cell_type": "markdown",
      "source": [
        "**Method 2:** Sort the list in ascending order and print the second last element in the list."
      ],
      "metadata": {
        "id": "lCtGnR5Jtz6x"
      }
    },
    {
      "cell_type": "code",
      "source": [
        "\n",
        "# Python program to find largest number\n",
        "# in a list\n",
        " \n",
        "# List of numbers\n",
        "list1 = [10, 20, 20, 4, 45, 45, 45, 99, 99]\n",
        " \n",
        "# Removing duplicates from the list\n",
        "list2 = list(set(list1))\n",
        " \n",
        "# Sorting the  list\n",
        "list2.sort()\n",
        " \n",
        "# Printing the second last element\n",
        "print(\"Second largest element is:\", list2[-2])"
      ],
      "metadata": {
        "colab": {
          "base_uri": "https://localhost:8080/"
        },
        "id": "-jaOUpBDt1ZG",
        "outputId": "6decb003-299b-4388-dc95-c680a29c867c"
      },
      "execution_count": null,
      "outputs": [
        {
          "output_type": "stream",
          "name": "stdout",
          "text": [
            "Second largest element is: 45\n"
          ]
        }
      ]
    },
    {
      "cell_type": "markdown",
      "source": [
        "**Method 3:** By removing the max element from the list "
      ],
      "metadata": {
        "id": "Vue7pqdLt56Q"
      }
    },
    {
      "cell_type": "code",
      "source": [
        "\n",
        "# Python program to find second largest number\n",
        "# in a list\n",
        " \n",
        "# List of numbers\n",
        "list1 = [10, 20, 4, 45, 99]\n",
        " \n",
        "# new_list is a set of list1\n",
        "new_list = set(list1)\n",
        " \n",
        "# Removing the largest element from temp list\n",
        "new_list.remove(max(new_list))\n",
        " \n",
        "# Elements in original list are not changed\n",
        "# print(list1)\n",
        "print(max(new_list))"
      ],
      "metadata": {
        "colab": {
          "base_uri": "https://localhost:8080/"
        },
        "id": "bxbyELNat7HH",
        "outputId": "4f981100-87ac-4ece-da2d-42a121f19c2c"
      },
      "execution_count": null,
      "outputs": [
        {
          "output_type": "stream",
          "name": "stdout",
          "text": [
            "45\n"
          ]
        }
      ]
    },
    {
      "cell_type": "markdown",
      "source": [
        "**Method 4:** Find the max list element on inputs provided by the user"
      ],
      "metadata": {
        "id": "f1zuXZ-wuAEv"
      }
    },
    {
      "cell_type": "code",
      "source": [
        "# Python program to find second largest\n",
        "# number in a list\n",
        " \n",
        "# creating list of integer type\n",
        "list1 = [10, 20, 4, 45, 99]\n",
        " \n",
        "'''\n",
        "# sort the list   \n",
        "list1.sort()\n",
        "     \n",
        "# print second maximum element\n",
        "print(\"Second largest element is:\", list1[-2])\n",
        " \n",
        "'''\n",
        " \n",
        "# print second maximum element using sorted() method\n",
        "print(\"Second largest element is:\", sorted(list1)[-2])"
      ],
      "metadata": {
        "colab": {
          "base_uri": "https://localhost:8080/"
        },
        "id": "TZiYZX8NuDIE",
        "outputId": "a801dd57-6594-4445-d478-c100c6cf816e"
      },
      "execution_count": null,
      "outputs": [
        {
          "output_type": "stream",
          "name": "stdout",
          "text": [
            "Second largest element is: 45\n"
          ]
        }
      ]
    },
    {
      "cell_type": "markdown",
      "source": [
        "**Method 5:** Traverse once to find the largest and then once again to find the second largest."
      ],
      "metadata": {
        "id": "9acuuJCcuGmF"
      }
    },
    {
      "cell_type": "code",
      "source": [
        "def findLargest(arr):\n",
        "    secondLargest = 0\n",
        "    largest = min(arr)\n",
        " \n",
        "    for i in range(len(arr)):\n",
        "        if arr[i] > largest:\n",
        "            secondLargest = largest\n",
        "            largest = arr[i]\n",
        "        else:\n",
        "            secondLargest = max(secondLargest, arr[i])\n",
        " \n",
        "    # Returning second largest element\n",
        "    return secondLargest\n",
        " \n",
        " \n",
        "# Calling above method over this array set\n",
        "print(findLargest([10, 20, 4, 45, 99]))"
      ],
      "metadata": {
        "colab": {
          "base_uri": "https://localhost:8080/"
        },
        "id": "5WBP1grSuHvt",
        "outputId": "7b1b2fc8-21b9-4b7c-c588-d63aec080dd3"
      },
      "execution_count": null,
      "outputs": [
        {
          "output_type": "stream",
          "name": "stdout",
          "text": [
            "45\n"
          ]
        }
      ]
    },
    {
      "cell_type": "markdown",
      "source": [
        "**Method 6:** Using list comprehension"
      ],
      "metadata": {
        "id": "4JfmSfg4uLu0"
      }
    },
    {
      "cell_type": "code",
      "source": [
        "def secondmax(arr):\n",
        "  sublist = [x for x in arr if x < max(arr)]\n",
        "  return max(sublist)\n",
        " \n",
        "if __name__ == '__main__':\n",
        "  arr = [10, 20, 4, 45, 99]\n",
        "  print(secondmax(arr))"
      ],
      "metadata": {
        "colab": {
          "base_uri": "https://localhost:8080/"
        },
        "id": "2h_tgsLEuOSt",
        "outputId": "7acc5a71-f881-46d3-f8c7-7722bbcf4edb"
      },
      "execution_count": null,
      "outputs": [
        {
          "output_type": "stream",
          "name": "stdout",
          "text": [
            "45\n"
          ]
        }
      ]
    },
    {
      "cell_type": "markdown",
      "source": [
        "**Method:** Using lambda function"
      ],
      "metadata": {
        "id": "7azgd1PiuTAt"
      }
    },
    {
      "cell_type": "code",
      "source": [
        "# python code to print second largest element in list\n",
        " \n",
        "lst = [10, 20, 4, 45, 99]\n",
        "maximum1 = max(lst)\n",
        "maximum2 = max(lst, key=lambda x: min(lst)-1 if (x == maximum1) else x)\n",
        "print(maximum2)"
      ],
      "metadata": {
        "colab": {
          "base_uri": "https://localhost:8080/"
        },
        "id": "KPxN1kc1uUad",
        "outputId": "589f8028-2acc-4325-f507-930bd4835848"
      },
      "execution_count": null,
      "outputs": [
        {
          "output_type": "stream",
          "name": "stdout",
          "text": [
            "45\n"
          ]
        }
      ]
    },
    {
      "cell_type": "markdown",
      "source": [
        "**Method:** Using enumerate function "
      ],
      "metadata": {
        "id": "R9qXk5oPuZX_"
      }
    },
    {
      "cell_type": "code",
      "source": [
        "lst = [10, 20, 4, 45, 99]\n",
        "m=max(lst)\n",
        "x=[a for i,a in enumerate(lst) if a<m]\n",
        "print(max(x))"
      ],
      "metadata": {
        "colab": {
          "base_uri": "https://localhost:8080/"
        },
        "id": "Ipzk5PEduXMu",
        "outputId": "3a5e6f51-0d3f-4d40-bdee-ac654151ac39"
      },
      "execution_count": null,
      "outputs": [
        {
          "output_type": "stream",
          "name": "stdout",
          "text": [
            "45\n"
          ]
        }
      ]
    },
    {
      "cell_type": "markdown",
      "source": [
        "# Q3 All prime numbers in range"
      ],
      "metadata": {
        "id": "7Ojwhy5kZXRY"
      }
    },
    {
      "cell_type": "code",
      "source": [
        "lower =900\n",
        "upper =1000\n",
        "\n",
        "for num in range (lower,upper+1):\n",
        "   if num>1:\n",
        "       for i in range(2,num):\n",
        "           if num%i==0:\n",
        "              break\n",
        "       else:\n",
        "          print(num)"
      ],
      "metadata": {
        "id": "UB1JN48SZjLb",
        "colab": {
          "base_uri": "https://localhost:8080/"
        },
        "outputId": "1bcd2cdb-3072-43c6-927e-1e6ee09d1bef"
      },
      "execution_count": null,
      "outputs": [
        {
          "output_type": "stream",
          "name": "stdout",
          "text": [
            "907\n",
            "911\n",
            "919\n",
            "929\n",
            "937\n",
            "941\n",
            "947\n",
            "953\n",
            "967\n",
            "971\n",
            "977\n",
            "983\n",
            "991\n",
            "997\n"
          ]
        }
      ]
    },
    {
      "cell_type": "code",
      "source": [
        "# Python program to display all the prime numbers within an interval\n",
        "\n",
        "lower = 900\n",
        "upper = 1000\n",
        "\n",
        "print(\"Prime numbers between\", lower, \"and\", upper, \"are:\")\n",
        "\n",
        "for num in range(lower, upper + 1):\n",
        "   # all prime numbers are greater than 1\n",
        "   if num > 1:\n",
        "       for i in range(2, num):\n",
        "           if (num % i) == 0:\n",
        "               break\n",
        "       else:\n",
        "           print(num)"
      ],
      "metadata": {
        "id": "qNeU1Ms8Z7Ny",
        "outputId": "06ef1f33-2048-481a-e7de-ab5b49101437",
        "colab": {
          "base_uri": "https://localhost:8080/"
        }
      },
      "execution_count": null,
      "outputs": [
        {
          "output_type": "stream",
          "name": "stdout",
          "text": [
            "Prime numbers between 900 and 1000 are:\n",
            "907\n",
            "911\n",
            "919\n",
            "929\n",
            "937\n",
            "941\n",
            "947\n",
            "953\n",
            "967\n",
            "971\n",
            "977\n",
            "983\n",
            "991\n",
            "997\n"
          ]
        }
      ]
    },
    {
      "cell_type": "code",
      "source": [
        "list1=[42,52,13,74,12,19,27]\n",
        "for i in range(len(list1)):\n",
        "  for j in range(i):\n",
        "    if list1[i]<list1[j]:\n",
        "      list1[i],list1[j]=list1[j],list1[i]\n",
        "print(list1)   "
      ],
      "metadata": {
        "id": "eMdkKzKUaLCS",
        "outputId": "08a00847-276c-41a3-906d-ac274148feab",
        "colab": {
          "base_uri": "https://localhost:8080/"
        }
      },
      "execution_count": null,
      "outputs": [
        {
          "output_type": "stream",
          "name": "stdout",
          "text": [
            "[12, 13, 19, 27, 42, 52, 74]\n"
          ]
        }
      ]
    },
    {
      "cell_type": "code",
      "source": [
        "lower = 900\n",
        "upper = 1000\n",
        "\n",
        "for num in range(lower,upper+1):\n",
        "    for i in range(2,int(num/2)+1):\n",
        "      if num%i==0:\n",
        "       break\n",
        "    else:\n",
        "        print(num)"
      ],
      "metadata": {
        "id": "htYQVfjYaODy",
        "outputId": "3e74dc52-e2de-430f-feab-6dc947bcfb8d",
        "colab": {
          "base_uri": "https://localhost:8080/"
        }
      },
      "execution_count": null,
      "outputs": [
        {
          "output_type": "stream",
          "name": "stdout",
          "text": [
            "907\n",
            "911\n",
            "919\n",
            "929\n",
            "937\n",
            "941\n",
            "947\n",
            "953\n",
            "967\n",
            "971\n",
            "977\n",
            "983\n",
            "991\n",
            "997\n"
          ]
        }
      ]
    },
    {
      "cell_type": "code",
      "source": [
        "lst=[12,1,5,1,6,8,4,6]\n",
        "for i in range(len(lst)):\n",
        "  for j in range(i):\n",
        "    if lst[i]>lst[j]:\n",
        "      lst[i],lst[j]=lst[j],lst[i]\n",
        "print(lst)"
      ],
      "metadata": {
        "id": "u9dkgfFIaSH7",
        "outputId": "cae6ac82-877a-4879-a07a-40d7a92cf5bf",
        "colab": {
          "base_uri": "https://localhost:8080/"
        }
      },
      "execution_count": null,
      "outputs": [
        {
          "output_type": "stream",
          "name": "stdout",
          "text": [
            "[12, 8, 6, 6, 5, 4, 1, 1]\n"
          ]
        }
      ]
    },
    {
      "cell_type": "code",
      "source": [
        "up=1000\n",
        "lw=900\n",
        "for num in range(lw,up+1):\n",
        "  for i in range(2,int(num/2)+1):\n",
        "    if(num%i==0):\n",
        "      break\n",
        "  else:\n",
        "    print(num)"
      ],
      "metadata": {
        "id": "V9_WCJPcaUQx",
        "outputId": "fa97f6d6-de0e-4a1d-9fcc-7e98222cc0e8",
        "colab": {
          "base_uri": "https://localhost:8080/"
        }
      },
      "execution_count": null,
      "outputs": [
        {
          "output_type": "stream",
          "name": "stdout",
          "text": [
            "907\n",
            "911\n",
            "919\n",
            "929\n",
            "937\n",
            "941\n",
            "947\n",
            "953\n",
            "967\n",
            "971\n",
            "977\n",
            "983\n",
            "991\n",
            "997\n"
          ]
        }
      ]
    },
    {
      "cell_type": "markdown",
      "source": [],
      "metadata": {
        "id": "D1KNOV4JX7Ia"
      }
    },
    {
      "cell_type": "code",
      "source": [
        "n=5\n",
        "for i in range (n, 0, -1):\n",
        "    print( * ' ' + i * '*')"
      ],
      "metadata": {
        "id": "jvcq_sdHX7R1",
        "outputId": "c883e303-c179-48bb-e2f2-bee9ee43caea",
        "colab": {
          "base_uri": "https://localhost:8080/"
        }
      },
      "execution_count": null,
      "outputs": [
        {
          "output_type": "stream",
          "name": "stdout",
          "text": [
            "  * * * * *\n",
            "  * * * *\n",
            "  * * *\n",
            "  * *\n",
            "  *\n"
          ]
        }
      ]
    },
    {
      "cell_type": "code",
      "source": [
        "for i in range (n,0,-1):\n",
        "  print(*\" \",+i * ' * ')"
      ],
      "metadata": {
        "id": "vDt9fAmhX9p0",
        "outputId": "2388c2e9-9eb7-4be7-e64d-d7b55c2eda62",
        "colab": {
          "base_uri": "https://localhost:8080/"
        }
      },
      "execution_count": null,
      "outputs": [
        {
          "output_type": "stream",
          "name": "stdout",
          "text": [
            "   *  *  *  *  * \n",
            "   *  *  *  * \n",
            "   *  *  * \n",
            "   *  * \n",
            "   * \n"
          ]
        }
      ]
    },
    {
      "cell_type": "code",
      "source": [
        "for i in range(0,n,1):\n",
        "  print(* \" \",+ i * \" * \")"
      ],
      "metadata": {
        "id": "8c-Wy-bwYAOD",
        "outputId": "fa6e6f5d-efdb-4acd-d5c7-f2ddc77a942a",
        "colab": {
          "base_uri": "https://localhost:8080/"
        }
      },
      "execution_count": null,
      "outputs": [
        {
          "output_type": "stream",
          "name": "stdout",
          "text": [
            "  \n",
            "   * \n",
            "   *  * \n",
            "   *  *  * \n",
            "   *  *  *  * \n"
          ]
        }
      ]
    },
    {
      "cell_type": "code",
      "source": [
        "\n",
        "n=15\n",
        "for i in range (0,n,1):\n",
        "  print(* ' ' +i * ' * ')\n",
        "     "
      ],
      "metadata": {
        "id": "ABC76gqIvW65",
        "outputId": "ce2f78ec-fba1-4330-ef52-ee0295000545",
        "colab": {
          "base_uri": "https://localhost:8080/"
        }
      },
      "execution_count": null,
      "outputs": [
        {
          "output_type": "stream",
          "name": "stdout",
          "text": [
            " \n",
            "    *  \n",
            "    *     *  \n",
            "    *     *     *  \n",
            "    *     *     *     *  \n",
            "    *     *     *     *     *  \n",
            "    *     *     *     *     *     *  \n",
            "    *     *     *     *     *     *     *  \n",
            "    *     *     *     *     *     *     *     *  \n",
            "    *     *     *     *     *     *     *     *     *  \n",
            "    *     *     *     *     *     *     *     *     *     *  \n",
            "    *     *     *     *     *     *     *     *     *     *     *  \n",
            "    *     *     *     *     *     *     *     *     *     *     *     *  \n",
            "    *     *     *     *     *     *     *     *     *     *     *     *     *  \n",
            "    *     *     *     *     *     *     *     *     *     *     *     *     *     *  \n"
          ]
        }
      ]
    },
    {
      "cell_type": "markdown",
      "source": [],
      "metadata": {
        "id": "b9XYmqdYtuH0"
      }
    },
    {
      "cell_type": "code",
      "source": [
        "def fib(n):\n",
        "  if n<0 :\n",
        "    print('Incorrect Input')\n",
        "  elif n ==1 :\n",
        "    return 0\n",
        "  elif n==2 :\n",
        "    return 1\n",
        "  else:\n",
        "    return fib(n-1)+fib(n-2)\n",
        "fib(10)"
      ],
      "metadata": {
        "id": "IbSQjoIQtuSh",
        "outputId": "dc0b6421-67a9-40c6-effa-45aae4ac167f",
        "colab": {
          "base_uri": "https://localhost:8080/"
        }
      },
      "execution_count": null,
      "outputs": [
        {
          "output_type": "execute_result",
          "data": {
            "text/plain": [
              "34"
            ]
          },
          "metadata": {},
          "execution_count": 1
        }
      ]
    },
    {
      "cell_type": "code",
      "source": [
        "def fib(n):\n",
        "  if n<0:\n",
        "    print(\"incorrect output\")\n",
        "  elif n==1:\n",
        "    return 0\n",
        "  elif n==2:\n",
        "    return 1\n",
        "  else:\n",
        "    return fib(n-1)+fib(n-2)\n",
        "fib(10)"
      ],
      "metadata": {
        "id": "T9B12OiGt9Sz",
        "outputId": "1519b8cd-bfb9-4c6c-92cf-1c5db2db1a2b",
        "colab": {
          "base_uri": "https://localhost:8080/"
        }
      },
      "execution_count": null,
      "outputs": [
        {
          "output_type": "execute_result",
          "data": {
            "text/plain": [
              "34"
            ]
          },
          "metadata": {},
          "execution_count": 2
        }
      ]
    },
    {
      "cell_type": "code",
      "source": [
        "sentence = \"I love programming in Python. How about you?\"\n",
        "''.join(sentence[-i] for i in range(1, len(sentence)+1))"
      ],
      "metadata": {
        "id": "o3RdpVym5vMU",
        "outputId": "7495a51b-58ef-446a-99fc-9016b9c99b3c",
        "colab": {
          "base_uri": "https://localhost:8080/",
          "height": 36
        }
      },
      "execution_count": null,
      "outputs": [
        {
          "output_type": "execute_result",
          "data": {
            "text/plain": [
              "'?uoy tuoba woH .nohtyP ni gnimmargorp evol I'"
            ],
            "application/vnd.google.colaboratory.intrinsic+json": {
              "type": "string"
            }
          },
          "metadata": {},
          "execution_count": 1
        }
      ]
    },
    {
      "cell_type": "markdown",
      "source": [
        "#  How can I make a tuple out of a list?\n",
        "We can transform a list into a tuple using the Python tuple() method. Since a tuple is immutable, we can't update the list after it has been converted to a tuple."
      ],
      "metadata": {
        "id": "D53CF5qF6gSo"
      }
    },
    {
      "cell_type": "code",
      "source": [
        "month = ['jan','feb','mar','apr','may','jun','jul','aug','sep','oct','nov','dec']  \n",
        "converting_list = tuple(month)  \n",
        "print(converting_list)  \n",
        "print(type(converting_list))  "
      ],
      "metadata": {
        "id": "SzCBMCfs6s25",
        "outputId": "e5c2cf05-7941-4e2f-cdea-cf8ea16cf2b6",
        "colab": {
          "base_uri": "https://localhost:8080/"
        }
      },
      "execution_count": null,
      "outputs": [
        {
          "output_type": "stream",
          "name": "stdout",
          "text": [
            "('jan', 'feb', 'mar', 'apr', 'may', 'jun', 'jul', 'aug', 'sep', 'oct', 'nov', 'dec')\n",
            "<class 'tuple'>\n"
          ]
        }
      ]
    },
    {
      "cell_type": "markdown",
      "source": [
        "# Is it possible to build a Python program that reverses a number?\n",
        "Python program to reverse number:\n",
        "\n",
        "Code"
      ],
      "metadata": {
        "id": "VJdvq5II7eCw"
      }
    },
    {
      "cell_type": "code",
      "source": [
        "n = int(input(\"Enter number: \"))  \n",
        "  \n",
        "reverse = 0  \n",
        "  \n",
        "while(n>0):  \n",
        "    digit = n%10  \n",
        "    reverse = reverse*10+digit  \n",
        "    n=n//10  \n",
        "print(\"The reverse of the number:\",reverse)  "
      ],
      "metadata": {
        "id": "peA7DEPJ7gtR",
        "outputId": "fa27a56c-6722-408c-e93d-1c7b0608a077",
        "colab": {
          "base_uri": "https://localhost:8080/"
        }
      },
      "execution_count": null,
      "outputs": [
        {
          "output_type": "stream",
          "name": "stdout",
          "text": [
            "Enter number: 35257\n",
            "The reverse of the number: 75253\n"
          ]
        }
      ]
    },
    {
      "cell_type": "markdown",
      "source": [
        "# Q2. Remove all duplicates from a given string in Python\n",
        "\n",
        "We are given a string and we need to remove all duplicates from it? What will be the output if the order of character matters?\n",
        "\n",
        " Examples:\n",
        "\n",
        "Input : geeksforgeeks \n",
        "\n",
        "Output : efgkors\n",
        "\n",
        "This problem has existing solution please refer Remove all duplicates from a given string. \n",
        "\n",
        "**Method 1:** "
      ],
      "metadata": {
        "id": "g8VFWRuxgv13"
      }
    },
    {
      "cell_type": "code",
      "source": [
        "from collections import OrderedDict\n",
        " \n",
        "# Function to remove all duplicates from string\n",
        "# and order does not matter\n",
        "def removeDupWithoutOrder(str):\n",
        " \n",
        "    # set() --> A Set is an unordered collection\n",
        "    #         data type that is iterable, mutable,\n",
        "    #         and has no duplicate elements.\n",
        "    # \"\".join() --> It joins two adjacent elements in\n",
        "    #             iterable with any symbol defined in\n",
        "    #             \"\" ( double quotes ) and returns a\n",
        "    #             single string\n",
        "    return \"\".join(set(str))\n",
        " \n",
        "# Function to remove all duplicates from string\n",
        "# and keep the order of characters same\n",
        "def removeDupWithOrder(str):\n",
        "    return \"\".join(OrderedDict.fromkeys(str))\n",
        " \n",
        "# Driver program\n",
        "if __name__ == \"__main__\":\n",
        "    str = \"geeksforgeeks\"\n",
        "    print (\"Without Order = \",removeDupWithoutOrder(str))\n",
        "    print (\"With Order = \",removeDupWithOrder(str))"
      ],
      "metadata": {
        "colab": {
          "base_uri": "https://localhost:8080/"
        },
        "id": "swoxxy5Eg3xf",
        "outputId": "2eaf8c1b-8dbd-4b65-8290-488d58fdf889"
      },
      "execution_count": null,
      "outputs": [
        {
          "output_type": "stream",
          "name": "stdout",
          "text": [
            "Without Order =  skrgofe\n",
            "With Order =  geksfor\n"
          ]
        }
      ]
    },
    {
      "cell_type": "markdown",
      "source": [
        "# Q Write a Program to eliminate Duplicates Present in the List?"
      ],
      "metadata": {
        "id": "2D3Vn9AUfw2k"
      }
    },
    {
      "cell_type": "code",
      "source": [
        "x1=[1,1,2,3,4,5,6,7,8,4,5,8,3,7]\n",
        "y=[]\n",
        "for i in x1:\n",
        "  if i not in y:\n",
        "    y.append(i)\n",
        "\n",
        "print(y)\n"
      ],
      "metadata": {
        "id": "gtcJ7C04f8Aa",
        "outputId": "39110b37-9936-4b0d-eea5-313bc0627af0",
        "colab": {
          "base_uri": "https://localhost:8080/"
        }
      },
      "execution_count": 2,
      "outputs": [
        {
          "output_type": "stream",
          "name": "stdout",
          "text": [
            "[1, 2, 3, 4, 5, 6, 7, 8]\n"
          ]
        }
      ]
    },
    {
      "cell_type": "markdown",
      "source": [
        "# Q  Write a Program to Print different Vowels Present in the given Word?(Using intersection method)"
      ],
      "metadata": {
        "id": "5g2VyxP-hGtU"
      }
    },
    {
      "cell_type": "markdown",
      "source": [
        "We can achieve this using 2different ways\n",
        "\n",
        "* 1)Traversing each character in a given string and check whether a character is a vowel or not\n",
        "\n",
        "* 2)We can achieve this functionality using one of the python set function-intersection()"
      ],
      "metadata": {
        "id": "t9JGXMr0hTIj"
      }
    },
    {
      "cell_type": "code",
      "source": [
        "#Example 1) Traversing each character in a given string and check whether a character is a vowel or not\n",
        "\n",
        "vowels=['a','e','i','o','u']\n",
        "element=input(\"Enter any statement : \")\n",
        "list1=[]\n",
        "for x in element:\n",
        "  if (x in vowels and x not in list1):\n",
        "    list1.append(x)\n",
        "print(\"vowels present in given statement : \",list1)\n"
      ],
      "metadata": {
        "id": "YfjQ_mJ-hJUS",
        "outputId": "c6b41c45-dae9-4688-c18d-3064464b6edc",
        "colab": {
          "base_uri": "https://localhost:8080/"
        }
      },
      "execution_count": 20,
      "outputs": [
        {
          "output_type": "stream",
          "name": "stdout",
          "text": [
            "Enter any statement : yeotiwad\n",
            "vowels present in given statement :  ['e', 'o', 'i', 'a']\n"
          ]
        }
      ]
    },
    {
      "cell_type": "code",
      "source": [
        "elem = input(\"Enter any statement : \")\n",
        "vowels =['a','e','i','o','u']\n",
        "list1=[]\n",
        "for x in elem:\n",
        "    if (x in vowels and x not in list1):\n",
        "        list1.append(x)\n",
        "print(\"Vowels present in given statement : \",list1)"
      ],
      "metadata": {
        "id": "mRCzf2gMkhYp",
        "outputId": "9d2338a8-e4f9-4d38-ad55-17a1a92d09a1",
        "colab": {
          "base_uri": "https://localhost:8080/"
        }
      },
      "execution_count": 21,
      "outputs": [
        {
          "output_type": "stream",
          "name": "stdout",
          "text": [
            "Enter any statement : sushil\n",
            "Vowels present in given statement :  ['u', 'i']\n"
          ]
        }
      ]
    },
    {
      "cell_type": "code",
      "source": [
        "#Example 2) We can achieve this functionality using one of the python set function-intersection()\n",
        "vowels=['a','e','i','o','u']\n",
        "element=input(\"Enter any statement : \")\n",
        "data=set(element)\n",
        "result=data.intersection(vowels)\n",
        "print(\"vowels present in given statent :\",result)"
      ],
      "metadata": {
        "id": "2SBvgUZtk1yt",
        "outputId": "631c749a-afc4-48e4-c0dc-5eb420b84b2f",
        "colab": {
          "base_uri": "https://localhost:8080/"
        }
      },
      "execution_count": 22,
      "outputs": [
        {
          "output_type": "stream",
          "name": "stdout",
          "text": [
            "Enter any statement : sushil yeotiwad\n",
            "vowels present in given statent : {'o', 'u', 'e', 'a', 'i'}\n"
          ]
        }
      ]
    }
  ]
}